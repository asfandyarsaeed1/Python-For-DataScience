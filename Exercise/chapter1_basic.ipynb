{
 "cells": [
  {
   "attachments": {},
   "cell_type": "markdown",
   "metadata": {},
   "source": [
    "## **Task 1**\n",
    "### **Calculations with variables**\n",
    "The formula to calculate how much money you have after 7 years of investing $100 each year with 10% return would look something like this:\n",
    "\n",
    "100 * 1.1 ** 7\\\n",
    "This is known as compound interest.\n",
    "\n",
    "Instead of calculating with the actual values, you can use variables instead. The savings variable you've created in the previous exercise represents the $100 you started with. It's up to you to create a new variable to represent 1.1 and then redo the calculations!"
   ]
  },
  {
   "cell_type": "code",
   "execution_count": null,
   "metadata": {},
   "outputs": [],
   "source": [
    "# Create a variable savings\n",
    "savings = 100\n",
    "\n",
    "# Create a variable growth_multiplier\n",
    "growth_multiplier=1.1\n",
    "\n",
    "# Calculate result\n",
    "\n",
    "\n",
    "# Print out result\n"
   ]
  }
 ],
 "metadata": {
  "language_info": {
   "name": "python"
  },
  "orig_nbformat": 4
 },
 "nbformat": 4,
 "nbformat_minor": 2
}
