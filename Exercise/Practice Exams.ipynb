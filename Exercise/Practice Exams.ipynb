{
 "cells": [
  {
   "attachments": {},
   "cell_type": "markdown",
   "metadata": {},
   "source": [
    "#### **Complete the code to return the output**\n",
    "\n",
    "import numpy as np\\\n",
    "np_heights = np.array([[1.60,1.75],[1.56,1.70],[1.49,1.68]])\\\n",
    "print(np.?(np_heights[:,0], np_heights[:,1]))"
   ]
  },
  {
   "cell_type": "code",
   "execution_count": 1,
   "metadata": {},
   "outputs": [
    {
     "name": "stdout",
     "output_type": "stream",
     "text": [
      "[[1.         0.92155064]\n",
      " [0.92155064 1.        ]]\n"
     ]
    }
   ],
   "source": [
    "###  Solution::\n",
    "import numpy as np\n",
    "np_heights = np.array([[1.60,1.75],[1.56,1.70],[1.49,1.68]])\n",
    "print(np.corrcoef(np_heights[:,0], np_heights[:,1]))"
   ]
  },
  {
   "attachments": {},
   "cell_type": "markdown",
   "metadata": {},
   "source": [
    "import numpy as np\\\n",
    "np_heights = np.array([[1.75,1.65,1.8,1.5],[1.56,1.70,1.4,1.29],[1.49,1.68,1.3,1.8]])\\\n",
    "np.sort(np_heights[0])\\\n",
    "print(?(np_heights[:,0]))"
   ]
  },
  {
   "cell_type": "code",
   "execution_count": 2,
   "metadata": {},
   "outputs": [
    {
     "name": "stdout",
     "output_type": "stream",
     "text": [
      "1.56\n"
     ]
    }
   ],
   "source": [
    "import numpy as np\n",
    "np_heights = np.array([[1.75,1.65,1.8,1.5],[1.56,1.70,1.4,1.29],[1.49,1.68,1.3,1.8]])\n",
    "np.sort(np_heights[0])\n",
    "print(np.median(np_heights[:,0]))"
   ]
  },
  {
   "cell_type": "code",
   "execution_count": 5,
   "metadata": {},
   "outputs": [
    {
     "name": "stdout",
     "output_type": "stream",
     "text": [
      "3\n"
     ]
    }
   ],
   "source": [
    "n = [[2, 4, 2],[2, 6, 4],[6, 2, 4]]\n",
    "print(len(n))"
   ]
  },
  {
   "cell_type": "code",
   "execution_count": 15,
   "metadata": {},
   "outputs": [
    {
     "name": "stdout",
     "output_type": "stream",
     "text": [
      "[1, 6, 12, 13, 14, 16]\n"
     ]
    }
   ],
   "source": [
    "p = [1, 16, 13, 6, 12, 14]\n",
    "print(sorted(p, reverse=False))"
   ]
  },
  {
   "cell_type": "code",
   "execution_count": 17,
   "metadata": {},
   "outputs": [
    {
     "name": "stdout",
     "output_type": "stream",
     "text": [
      "[4 6 4]\n"
     ]
    }
   ],
   "source": [
    "import numpy as np\n",
    "m = np.array([2, 6, 4])\n",
    "n = np.array([2, 1, 1])\n",
    "print(m * n)"
   ]
  }
 ],
 "metadata": {
  "kernelspec": {
   "display_name": "Python 3",
   "language": "python",
   "name": "python3"
  },
  "language_info": {
   "codemirror_mode": {
    "name": "ipython",
    "version": 3
   },
   "file_extension": ".py",
   "mimetype": "text/x-python",
   "name": "python",
   "nbconvert_exporter": "python",
   "pygments_lexer": "ipython3",
   "version": "3.10.1"
  },
  "orig_nbformat": 4
 },
 "nbformat": 4,
 "nbformat_minor": 2
}
