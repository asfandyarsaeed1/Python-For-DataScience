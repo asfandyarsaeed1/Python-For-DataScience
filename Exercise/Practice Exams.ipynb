{
 "cells": [
  {
   "attachments": {},
   "cell_type": "markdown",
   "metadata": {},
   "source": [
    "#### **Complete the code to return the output**\n",
    "\n",
    "import numpy as np\\\n",
    "np_heights = np.array([[1.60,1.75],[1.56,1.70],[1.49,1.68]])\\\n",
    "print(np.?(np_heights[:,0], np_heights[:,1]))"
   ]
  },
  {
   "cell_type": "code",
   "execution_count": 1,
   "metadata": {},
   "outputs": [
    {
     "name": "stdout",
     "output_type": "stream",
     "text": [
      "[[1.         0.92155064]\n",
      " [0.92155064 1.        ]]\n"
     ]
    }
   ],
   "source": [
    "###  Solution::\n",
    "import numpy as np\n",
    "np_heights = np.array([[1.60,1.75],[1.56,1.70],[1.49,1.68]])\n",
    "print(np.corrcoef(np_heights[:,0], np_heights[:,1]))"
   ]
  },
  {
   "attachments": {},
   "cell_type": "markdown",
   "metadata": {},
   "source": [
    "import numpy as np\\\n",
    "np_heights = np.array([[1.75,1.65,1.8,1.5],[1.56,1.70,1.4,1.29],[1.49,1.68,1.3,1.8]])\\\n",
    "np.sort(np_heights[0])\\\n",
    "print(?(np_heights[:,0]))"
   ]
  },
  {
   "cell_type": "code",
   "execution_count": 2,
   "metadata": {},
   "outputs": [
    {
     "name": "stdout",
     "output_type": "stream",
     "text": [
      "1.56\n"
     ]
    }
   ],
   "source": [
    "import numpy as np\n",
    "np_heights = np.array([[1.75,1.65,1.8,1.5],[1.56,1.70,1.4,1.29],[1.49,1.68,1.3,1.8]])\n",
    "np.sort(np_heights[0])\n",
    "print(np.median(np_heights[:,0]))"
   ]
  },
  {
   "cell_type": "code",
   "execution_count": 5,
   "metadata": {},
   "outputs": [
    {
     "name": "stdout",
     "output_type": "stream",
     "text": [
      "3\n"
     ]
    }
   ],
   "source": [
    "n = [[2, 4, 2],[2, 6, 4],[6, 2, 4]]\n",
    "print(len(n))"
   ]
  },
  {
   "cell_type": "code",
   "execution_count": 15,
   "metadata": {},
   "outputs": [
    {
     "name": "stdout",
     "output_type": "stream",
     "text": [
      "[1, 6, 12, 13, 14, 16]\n"
     ]
    }
   ],
   "source": [
    "p = [1, 16, 13, 6, 12, 14]\n",
    "print(sorted(p, reverse=False))"
   ]
  },
  {
   "cell_type": "code",
   "execution_count": 17,
   "metadata": {},
   "outputs": [
    {
     "name": "stdout",
     "output_type": "stream",
     "text": [
      "[4 6 4]\n"
     ]
    }
   ],
   "source": [
    "import numpy as np\n",
    "m = np.array([2, 6, 4])\n",
    "n = np.array([2, 1, 1])\n",
    "print(m * n)"
   ]
  },
  {
   "attachments": {},
   "cell_type": "markdown",
   "metadata": {},
   "source": [
    "### **Exercise 1**\n",
    "Create a program that asks the user to enter their name and their age. Print out a message addressed to them that tells them the year that they will turn 100 years old. Note: for this exercise, the expectation is that you explicitly write out the year (and therefore be out of date the next year)"
   ]
  },
  {
   "cell_type": "code",
   "execution_count": 18,
   "metadata": {},
   "outputs": [
    {
     "name": "stdout",
     "output_type": "stream",
     "text": [
      "asfandyar 2095\n"
     ]
    }
   ],
   "source": [
    "name = input('Enter the name ')\n",
    "age=int(input('Enter your age'))\n",
    "\n",
    "import datetime\n",
    "age100=100-age\n",
    "age_after=datetime.datetime.now().year+age100\n",
    "print (name ,age_after)\n"
   ]
  },
  {
   "attachments": {},
   "cell_type": "markdown",
   "metadata": {},
   "source": [
    "### **Exercise 2**\n",
    "Ask the user for a number. Depending on whether the number is even or odd, print out an appropriate message to the user"
   ]
  },
  {
   "cell_type": "code",
   "execution_count": 20,
   "metadata": {},
   "outputs": [
    {
     "name": "stdout",
     "output_type": "stream",
     "text": [
      "21 is odd \n"
     ]
    }
   ],
   "source": [
    "num= int(input(\"Enter the number please:: \"))\n",
    "if num%2==0:\n",
    "    print(f\"{num} is even\")\n",
    "else:\n",
    "    print(\"{0} is odd \".format(num))"
   ]
  },
  {
   "attachments": {},
   "cell_type": "markdown",
   "metadata": {},
   "source": [
    "### **Exercise 3**\n",
    "Take a list, say for example this one:\n",
    "\n",
    "  a = [1, 1, 2, 3, 5, 8, 13, 21, 34, 55, 89]\n",
    "and write a program that prints out all the elements of the list that are less than 5."
   ]
  },
  {
   "cell_type": "code",
   "execution_count": 28,
   "metadata": {},
   "outputs": [
    {
     "name": "stdout",
     "output_type": "stream",
     "text": [
      "[1, 1, 2, 3]\n"
     ]
    }
   ],
   "source": [
    "a = [1, 1, 2, 3, 5, 8, 13, 21, 34, 55, 89]\n",
    "x=[]\n",
    "for i in a:\n",
    "    if i<5:\n",
    "        x.append(i)\n",
    "print(x)"
   ]
  },
  {
   "attachments": {},
   "cell_type": "markdown",
   "metadata": {},
   "source": [
    "### **Exercise 4**\n",
    "Create a program that asks the user for a number and then prints out a list of all the divisors of that number. (If you don’t know what a divisor is, it is a number that divides evenly into another number. For example, 13 is a divisor of 26 because 26 / 13 has no remainder.)"
   ]
  },
  {
   "cell_type": "code",
   "execution_count": 42,
   "metadata": {},
   "outputs": [
    {
     "name": "stdout",
     "output_type": "stream",
     "text": [
      "31 is the number you entered:: \n",
      "list of divisor are :\n",
      "[1, 31]\n"
     ]
    }
   ],
   "source": [
    "num=int(input(\"enter the number :: \"))\n",
    "print(f\"{num} is the number you entered:: \")\n",
    "x=[]\n",
    "i=1\n",
    "for i in range(num+1):\n",
    "    if  i!=0 and num%i==0 :\n",
    "        x.append(i)\n",
    "print(f\"list of divisor are :\\n{x}\")"
   ]
  },
  {
   "attachments": {},
   "cell_type": "markdown",
   "metadata": {},
   "source": [
    "### **Exercise 5**\n",
    "Take two lists, say for example these two:\n",
    "\n",
    "  a = [1, 1, 2, 3, 5, 8, 13, 21, 34, 55, 89]\\\n",
    "  b = [1, 2, 3, 4, 5, 6, 7, 8, 9, 10, 11, 12, 13]\\\n",
    "and write a program that returns a list that contains only the elements that are common between the lists (without duplicates). Make sure your program works on two lists of different sizes."
   ]
  },
  {
   "cell_type": "code",
   "execution_count": 49,
   "metadata": {},
   "outputs": [],
   "source": [
    "a = [1, 1, 2, 3, 5, 8, 13, 21, 34, 55, 89]\n",
    "b = [1, 2, 3, 4, 5, 6, 7, 8, 9, 10, 11, 12, 13]"
   ]
  },
  {
   "cell_type": "code",
   "execution_count": 52,
   "metadata": {},
   "outputs": [
    {
     "name": "stdout",
     "output_type": "stream",
     "text": [
      "[1, 1, 2, 3, 5, 8, 13]\n"
     ]
    }
   ],
   "source": [
    "x=[]\n",
    "for i in a:\n",
    "    if i in b:\n",
    "        x.append(i)\n",
    "print(x)        "
   ]
  },
  {
   "attachments": {},
   "cell_type": "markdown",
   "metadata": {},
   "source": [
    "### **Exercise 6**\n",
    "Ask the user for a string and print out whether this string is a palindrome or not. (A palindrome is a string that reads the same forwards and backwards.)"
   ]
  },
  {
   "cell_type": "code",
   "execution_count": 90,
   "metadata": {},
   "outputs": [
    {
     "name": "stdout",
     "output_type": "stream",
     "text": [
      "NO asfand we can't reverse it as dnafsa\n"
     ]
    }
   ],
   "source": [
    "strs=input(\"input a string then I will show you either you can write in reverse\")\n",
    "if strs[0:len(strs)]==strs[::-1]:\n",
    "    print (f\"yes {strs} we can reverse it as {strs[::-1]}\")\n",
    "else:\n",
    "   print (f\"NO {strs} we can\\'t reverse it as {strs[::-1]}\")"
   ]
  },
  {
   "attachments": {},
   "cell_type": "markdown",
   "metadata": {},
   "source": [
    "### **Exercise 7**\n",
    "Let’s say I give you a list saved in a variable: a = [1, 4, 9, 16, 25, 36, 49, 64, 81, 100]. Write one line of Python that takes this list a and makes a new list that has only the even elements of this list in it."
   ]
  },
  {
   "cell_type": "code",
   "execution_count": 94,
   "metadata": {},
   "outputs": [
    {
     "name": "stdout",
     "output_type": "stream",
     "text": [
      "[4, 16, 36, 64, 100]\n"
     ]
    }
   ],
   "source": [
    "a = [1, 4, 9, 16, 25, 36, 49, 64, 81, 100]\n",
    "lists =[i for i in a if i%2==0 ]\n",
    "print(lists)"
   ]
  },
  {
   "attachments": {},
   "cell_type": "markdown",
   "metadata": {},
   "source": [
    "### **Exercise 8**\n",
    "Make a two-player Rock-Paper-Scissors game. (Hint: Ask for player plays (using input), compare them, print out a message of congratulations to the winner, and ask if the players want to start a new game)\n",
    "\n",
    "Remember the rules:\n",
    "\n",
    "Rock beats scissors\\\n",
    "Scissors beats paper\\\n",
    "Paper beats rock"
   ]
  },
  {
   "cell_type": "code",
   "execution_count": 10,
   "metadata": {},
   "outputs": [
    {
     "name": "stdout",
     "output_type": "stream",
     "text": [
      "p1 entered paper and p2 entered paper\n",
      "try again !! {p1} and {p2}\n",
      "p1 entered q and p2 entered \n"
     ]
    }
   ],
   "source": [
    "while True:\n",
    "    p1=input ('p1 Please enter you command: ')\n",
    "    p2=input ('p2 Please enter you command: ')\n",
    "    print (f\"p1 entered {p1} and p2 entered {p2}\")\n",
    "    if p1== 'q' or p2=='q':\n",
    "        break\n",
    "    \n",
    "    if p1.lower()== 'rock':\n",
    "        if p1==p2:\n",
    "            print (\"try again !! {p1} and {p2}\")\n",
    "            continue\n",
    "        elif p2.lower()=='scissors':\n",
    "            print(f'p1 wins as he has {p1}')\n",
    "        elif p2.lower()=='paper' :\n",
    "            print(f'p2 wins as he has {p2}')\n",
    "\n",
    "    elif p1.lower()=='scissors':\n",
    "        if p1.lower()==p2.lower():\n",
    "            print('try again !! {p1} and {p2}')\n",
    "            break\n",
    "        elif p2.lower()=='rock':\n",
    "            print(f'p2 wins as he has p1:{p1} and p2:{p2}')\n",
    "        else:\n",
    "            print(f'p2 wins as he has p1:{p1} and p2:{p2}')\n",
    "    elif p1.lower()== 'paper':\n",
    "        if p1.lower()==p2.lower():\n",
    "            print('try again !! {p1} and {p2}')\n",
    "            continue\n",
    "        elif p2.lower()=='rock':\n",
    "            print(f'p1 wins as he has p1:{p1} and p2:{p2}')\n",
    "        else:\n",
    "            print(f'p2 wins as he has p1:{p1} and p2:{p2}')\n",
    "    print('output')"
   ]
  },
  {
   "attachments": {},
   "cell_type": "markdown",
   "metadata": {},
   "source": [
    "### **Exercise 9**\n",
    "Generate a random number between 1 and 9 (including 1 and 9). Ask the user to guess the number, then tell them whether they guessed too low, too high, or exactly right. (Hint: remember to use the user input lessons from the very first exercise)\n",
    "\n",
    "Extras:\n",
    "\n",
    "Keep the game going until the user types “exit”\\\n",
    "Keep track of how many guesses the user has taken, and when the game ends, print this out."
   ]
  },
  {
   "cell_type": "code",
   "execution_count": null,
   "metadata": {},
   "outputs": [],
   "source": [
    "import random as rans\n",
    "\n",
    "\n",
    "while True:\n",
    "    count=0\n",
    "    ran= rans.randint(1,9)\n",
    "    print(ran)\n",
    "    while True:\n",
    "        user=int(input(\"Please enter an integer value:: \"))\n",
    "        if count==3:\n",
    "            print(f'random number {ran} and user number is {user} ')\n",
    "            break\n",
    "        elif ran==user or count==3:\n",
    "            print(f'congrats random number {ran} and user number is {user} ')\n",
    "            break\n",
    "        elif user >ran:\n",
    "            count+=1\n",
    "            print(f'value you guessed is high')\n",
    "        else:\n",
    "            count+=1\n",
    "            print (f'value is low')\n",
    "# print(ran)"
   ]
  },
  {
   "attachments": {},
   "cell_type": "markdown",
   "metadata": {},
   "source": [
    "### **Exercise 10**\n",
    "This week’s exercise is going to be revisiting an old exercise (see Exercise 5), except require the solution in a different way.\n",
    "\n",
    "Take two lists, say for example these two:\n",
    "\n",
    "\ta = [1, 1, 2, 3, 5, 8, 13, 21, 34, 55, 89]\n",
    "\tb = [1, 2, 3, 4, 5, 6, 7, 8, 9, 10, 11, 12, 13]\n",
    "and write a program that returns a list that contains only the elements that are common between the lists (without duplicates). Make sure your program works on two lists of different sizes. Write this in one line of Python using at least one list comprehension. (Hint: Remember list comprehensions from Exercise 7).\n",
    "\n",
    "The original formulation of this exercise said to write the solution using one line of Python, but a few readers pointed out that this was impossible to do without using sets that I had not yet discussed on the blog, so you can either choose to use the original directive and read about the set command in Python 3.3, or try to implement this on your own and use at least one list comprehension in the solution.\n",
    "\n",
    "Extra:\n",
    "\n",
    "Randomly generate two lists to test this"
   ]
  },
  {
   "cell_type": "code",
   "execution_count": 38,
   "metadata": {},
   "outputs": [],
   "source": [
    "a = [1, 1, 2, 3, 5, 8, 13, 21, 34, 55, 89]\n",
    "b = [1, 2, 3, 4, 5, 6, 7, 8, 9, 10, 11, 12, 13]"
   ]
  },
  {
   "cell_type": "code",
   "execution_count": 42,
   "metadata": {},
   "outputs": [
    {
     "name": "stdout",
     "output_type": "stream",
     "text": [
      "[1, 2, 3, 5, 8, 13]\n"
     ]
    }
   ],
   "source": [
    "ls=list(set([a[i] for i in range(len(a)) if a[i] in b]))\n",
    "print (ls)"
   ]
  },
  {
   "attachments": {},
   "cell_type": "markdown",
   "metadata": {},
   "source": [
    "### **Exercise 11**\n",
    "Ask the user for a number and determine whether the number is prime or not. (For those who have forgotten, a prime number is a number that has no divisors.). You can (and should!) use your answer to Exercise 4 to help you. Take this opportunity to practice using functions, described below."
   ]
  },
  {
   "cell_type": "code",
   "execution_count": 58,
   "metadata": {},
   "outputs": [
    {
     "name": "stdout",
     "output_type": "stream",
     "text": [
      "you entered prime number\n",
      "[1, 3]\n"
     ]
    }
   ],
   "source": [
    "user=int(input('Enter a number:: '))\n",
    "lists=[i for i in range(1,101)]\n",
    "listss=[i for i in lists if user%i==0]\n",
    "if len(listss)==2:\n",
    "    print('you entered prime number')\n",
    "    print(listss)"
   ]
  },
  {
   "cell_type": "markdown",
   "metadata": {},
   "source": [
    "### **Exercise 12**\n",
    "Write a program that takes a list of numbers (for example, a = [5, 10, 15, 20, 25]) and makes a new list of only the first and last elements of the given list. For practice, write this code inside a function."
   ]
  },
  {
   "cell_type": "code",
   "execution_count": null,
   "metadata": {},
   "outputs": [],
   "source": [
    "while True:\n",
    "    user=list(input('enter values'))\n",
    "    if user=='q':\n",
    "        break\n",
    "    type(user)\n",
    "    print(user)\n",
    "    users=[int(user[i])  for i in range(len(user))]\n",
    "    print(users)\n",
    "    fl=[]\n",
    "    fl.append(users[0])\n",
    "    fl.append(users[-1])\n",
    "    print (fl)"
   ]
  },
  {
   "attachments": {},
   "cell_type": "markdown",
   "metadata": {},
   "source": [
    "### **Exercise 13**\n",
    "Write a program (function!) that takes a list and returns a new list that contains all the elements of the first list minus all the duplicates.\n",
    "\n",
    "Extras:\n",
    "\n",
    "Write two different functions to do this - one using a loop and constructing a list, and another using sets.\n",
    "Go back and do Exercise 5 using sets, and write the solution for that in a different function."
   ]
  },
  {
   "cell_type": "code",
   "execution_count": 95,
   "metadata": {},
   "outputs": [
    {
     "name": "stdout",
     "output_type": "stream",
     "text": [
      "122121212121\n",
      "[1, 2]\n"
     ]
    }
   ],
   "source": [
    "\n",
    "def dup():\n",
    "    ls=input ('enter the list ::')\n",
    "    print(ls)\n",
    "    ls=list (set([int(ls[i]) for i in range(len(ls))]))\n",
    "    print(ls)\n"
   ]
  },
  {
   "cell_type": "code",
   "execution_count": 96,
   "metadata": {},
   "outputs": [
    {
     "name": "stdout",
     "output_type": "stream",
     "text": [
      "12121212\n",
      "[1, 2]\n"
     ]
    }
   ],
   "source": [
    "dup()"
   ]
  },
  {
   "attachments": {},
   "cell_type": "markdown",
   "metadata": {},
   "source": [
    "### **Exercise 15**\n",
    "Write a program (using functions!) that asks the user for a long string containing multiple words. Print back to the user the same string, except with the words in backwards order. For example, say I type the string:\n",
    "\n",
    "  My name is Michele\\\n",
    "Then I would see the string:\n",
    "\n",
    "  Michele is name My\\\n",
    "shown back to me."
   ]
  },
  {
   "cell_type": "code",
   "execution_count": 116,
   "metadata": {},
   "outputs": [
    {
     "name": "stdout",
     "output_type": "stream",
     "text": [
      "My first name is Asfand\n",
      "Asfand is name first My\n"
     ]
    }
   ],
   "source": [
    "def conca():\n",
    "    p=input('enter strings')\n",
    "    print(p)\n",
    "    # print(p.split(' ')[::-1])\n",
    "    r=p.split(' ')[::-1]\n",
    "    print(' '.join(r))\n",
    "conca()"
   ]
  },
  {
   "attachments": {},
   "cell_type": "markdown",
   "metadata": {},
   "source": [
    "### **Exercise 16**\n",
    "Note: this is a 4-chili exercise, not because it introduces a concept, but because this exercise is more like a project. Feel free to skip this and come back when you’re more ready!\n",
    "\n",
    "Write a password generator in Python. Be creative with how you generate passwords - strong passwords have a mix of lowercase letters, uppercase letters, numbers, and symbols. The passwords should be random, generating a new password every time the user asks for a new password. Include your run-time code in a main method.\n",
    "\n",
    "Extra:\n",
    "\n",
    "Ask the user how strong they want their password to be. For weak passwords, pick a word or two from a list."
   ]
  },
  {
   "cell_type": "code",
   "execution_count": 213,
   "metadata": {},
   "outputs": [
    {
     "name": "stdout",
     "output_type": "stream",
     "text": [
      "10\n",
      "o|ssHP4__s\n"
     ]
    }
   ],
   "source": [
    "import random\n",
    "import string\n",
    "import numpy as np\n",
    "import random\n",
    "import math\n",
    "passs=[]\n",
    "pas=[]\n",
    "special=\"!@#$%^&*()_-+={}[]:;<>,.?/|\"\n",
    "\n",
    "p=int (input ('how many digits password do you want:'))\n",
    "print(p)\n",
    "while len(pas)<=p:\n",
    "    pas.append(random.choice(string.ascii_lowercase)+random.choice(string.ascii_uppercase)+str(random.choice(special))+str(random.randint(1,10)))\n",
    "    # pas.append(random.choice(string.ascii_uppercase))\n",
    "    # pas.append(random.choice(special))\n",
    "    # pas.append(random.randint(1,10))\n",
    "pas=''.join(np.array(pas))\n",
    "for i in range(p):\n",
    "    passs.append(random.choice(pas))\n",
    "print(''.join(np.array(passs)))"
   ]
  },
  {
   "attachments": {},
   "cell_type": "markdown",
   "metadata": {},
   "source": [
    "### **Exercise 18**\n",
    "Create a program that will play the “cows and bulls” game with the user. The game works like this:\n",
    "\n",
    "Randomly generate a 4-digit number. Ask the user to guess a 4-digit number. For every digit that the user guessed correctly in the correct place, they have a “cow”. For every digit the user guessed correctly in the wrong place is a “bull.” Every time the user makes a guess, tell them how many “cows” and “bulls” they have. Once the user guesses the correct number, the game is over. Keep track of the number of guesses the user makes throughout teh game and tell the user at the end."
   ]
  },
  {
   "cell_type": "code",
   "execution_count": 262,
   "metadata": {},
   "outputs": [
    {
     "name": "stdout",
     "output_type": "stream",
     "text": [
      "randome : ['7', '0', '5', '1']\n",
      "user num: ['1', '2', '3', '4']\n",
      "cow are 0 and bull are 1\n"
     ]
    }
   ],
   "source": [
    "import random\n",
    "rans= list(str(random.randint(1000,9999)))\n",
    "# rans=['1','1','8','4']\n",
    "print ('randome :',rans)\n",
    "ps=list(input('Enter the num: '))\n",
    "print ('user num:',ps)\n",
    "count_cow=0\n",
    "count_bull=0\n",
    "for i in range(len(ps)):\n",
    "    if rans[i] in ps:\n",
    "        if i==ps.index(rans[i]):\n",
    "            count_cow+=1\n",
    "        else:\n",
    "            count_bull+=1\n",
    "print(f\"cow are {count_cow} and bull are {count_bull}\")\n"
   ]
  },
  {
   "cell_type": "code",
   "execution_count": 259,
   "metadata": {},
   "outputs": [
    {
     "name": "stdout",
     "output_type": "stream",
     "text": [
      "cow are 2 and bull are 1\n"
     ]
    }
   ],
   "source": []
  },
  {
   "cell_type": "code",
   "execution_count": 224,
   "metadata": {},
   "outputs": [
    {
     "data": {
      "text/plain": [
       "0"
      ]
     },
     "execution_count": 224,
     "metadata": {},
     "output_type": "execute_result"
    }
   ],
   "source": [
    "a=np.array([1,2,3])\n",
    "b=[1,2,3]\n",
    "b.index(1)\n"
   ]
  },
  {
   "cell_type": "code",
   "execution_count": 231,
   "metadata": {},
   "outputs": [
    {
     "name": "stdout",
     "output_type": "stream",
     "text": [
      "['1', '1', '4', '3']\n"
     ]
    }
   ],
   "source": [
    "print(list(str(random.randint(1000,9999))))"
   ]
  },
  {
   "cell_type": "code",
   "execution_count": 185,
   "metadata": {},
   "outputs": [
    {
     "data": {
      "text/plain": [
       "['oI|4', 'bG{8', 'sW%2', 'kY%2', 'cA>10']"
      ]
     },
     "execution_count": 185,
     "metadata": {},
     "output_type": "execute_result"
    }
   ],
   "source": [
    "pas"
   ]
  },
  {
   "cell_type": "code",
   "execution_count": 120,
   "metadata": {},
   "outputs": [
    {
     "name": "stdout",
     "output_type": "stream",
     "text": [
      "Random lowercase character: m\n",
      "Random uppercase character: B\n"
     ]
    }
   ],
   "source": [
    "import random\n",
    "import string\n",
    "random_char_lowercase = random.choice(string.ascii_lowercase)\n",
    "\n",
    "# For uppercase alphabet (A-Z)\n",
    "random_char_uppercase = random.choice(string.ascii_uppercase)\n",
    "\n",
    "print(\"Random lowercase character:\", random_char_lowercase)\n",
    "print(\"Random uppercase character:\", random_char_uppercase)"
   ]
  },
  {
   "cell_type": "code",
   "execution_count": 123,
   "metadata": {},
   "outputs": [
    {
     "name": "stdout",
     "output_type": "stream",
     "text": [
      "abcdefghijklmnopqrstuvwxyz\n"
     ]
    }
   ],
   "source": [
    "print (string.ascii_lowercase)"
   ]
  },
  {
   "cell_type": "code",
   "execution_count": 145,
   "metadata": {},
   "outputs": [
    {
     "data": {
      "text/plain": [
       "7"
      ]
     },
     "execution_count": 145,
     "metadata": {},
     "output_type": "execute_result"
    }
   ],
   "source": [
    "random.randint(1,10)"
   ]
  }
 ],
 "metadata": {
  "kernelspec": {
   "display_name": "Python 3",
   "language": "python",
   "name": "python3"
  },
  "language_info": {
   "codemirror_mode": {
    "name": "ipython",
    "version": 3
   },
   "file_extension": ".py",
   "mimetype": "text/x-python",
   "name": "python",
   "nbconvert_exporter": "python",
   "pygments_lexer": "ipython3",
   "version": "3.10.1"
  },
  "orig_nbformat": 4
 },
 "nbformat": 4,
 "nbformat_minor": 2
}
