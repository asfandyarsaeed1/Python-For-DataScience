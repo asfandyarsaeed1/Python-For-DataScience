{
 "cells": [
  {
   "attachments": {},
   "cell_type": "markdown",
   "metadata": {},
   "source": [
    "### **Importing entire text files**\n",
    "In this exercise, you'll be working with the file moby_dick.txt. It is a text file that contains the opening sentences of Moby Dick, one of the great American novels! Here you'll get experience opening a text file, printing its contents to the shell and, finally, closing it.\n",
    "\n",
    "> ### **Instructions**\n",
    "* Open the file moby_dick.txt as read-only and store it in the variable file. Make sure to pass the filename enclosed in quotation marks ''.\n",
    "* Print the contents of the file to the shell using the print() function. As Hugo showed in the video, you'll need to apply the method read() to the object file.\n",
    "* Check whether the file is closed by executing print(file.closed).\n",
    "* Close the file using the close() method.\n",
    "* Check again that the file is closed as you did above."
   ]
  },
  {
   "cell_type": "code",
   "execution_count": 2,
   "metadata": {},
   "outputs": [
    {
     "name": "stdout",
     "output_type": "stream",
     "text": [
      "CHAPTER 1. Loomings.\n",
      "\n",
      "Call me Ishmael. Some years ago--never mind how long precisely--having\n",
      "little or no money in my purse, and nothing particular to interest me on\n",
      "shore, I thought I would sail about a little and see the watery part of\n",
      "the world. It is a way I have of driving off the spleen and regulating\n",
      "the circulation. Whenever I find myself growing grim about the mouth;\n",
      "whenever it is a damp, drizzly November in my soul; whenever I find\n",
      "myself involuntarily pausing before coffin warehouses, and bringing up\n",
      "the rear of every funeral I meet; and especially whenever my hypos get\n",
      "such an upper hand of me, that it requires a strong moral principle to\n",
      "prevent me from deliberately stepping into the street, and methodically\n",
      "knocking people's hats off--then, I account it high time to get to sea\n",
      "as soon as I can. This is my substitute for pistol and ball. With a\n",
      "philosophical flourish Cato throws himself upon his sword; I quietly\n",
      "take to the ship. There is nothing surprising in this. If they but knew\n",
      "it, almost all men in their degree, some time or other, cherish very\n",
      "nearly the same feelings towards the ocean with me.\n",
      "False\n",
      "True\n"
     ]
    }
   ],
   "source": [
    "file = open('moby_dick.txt',mode = 'r')\n",
    "print(file.read())\n",
    "## tp see is it closed or not\n",
    "print (file.closed)\n",
    "file.close()\n",
    "print (file.closed)"
   ]
  },
  {
   "attachments": {},
   "cell_type": "markdown",
   "metadata": {},
   "source": [
    "### **Importing text files line by line**\n",
    "For large files, we may not want to print all of their content to the shell: you may wish to print only the first few lines. Enter the readline() method, which allows you to do this. When a file called file is open, you can print out the first line by executing file.readline(). If you execute the same command again, the second line will print, and so on.\n",
    "\n",
    "In the introductory video, Hugo also introduced the concept of a context manager. He showed that you can bind a variable file by using a context manager construct:\n",
    "\n",
    "with open('huck_finn.txt') as file:\\\n",
    "While still within this construct, the variable file will be bound to open('huck_finn.txt'); thus, to print the file to the shell, all the code you need to execute is:\n",
    "\n",
    "with open('huck_finn.txt') as file:\\\n",
    "    print(file.readline())\\\n",
    "You'll now use these tools to print the first few lines of moby_dick.txt!\n",
    "\n",
    "> ### **Instructions**\n",
    "* Open moby_dick.txt using the with context manager and the variable file.\n",
    "* Print the first three lines of the file to the shell by using readline() three times within the context manager.\n",
    "\n"
   ]
  },
  {
   "cell_type": "code",
   "execution_count": 3,
   "metadata": {},
   "outputs": [
    {
     "name": "stdout",
     "output_type": "stream",
     "text": [
      "CHAPTER 1. Loomings.\n",
      "\n",
      "\n",
      "\n",
      "Call me Ishmael. Some years ago--never mind how long precisely--having\n",
      "\n"
     ]
    }
   ],
   "source": [
    "with open('moby_dick.txt','r') as file:\n",
    "## print first line\n",
    "    print(file.readline())\n",
    "## print second line \n",
    "    print (file.readline())\n",
    "## print 3rd line of the txt file\n",
    "    print (file.readline())"
   ]
  },
  {
   "attachments": {},
   "cell_type": "markdown",
   "metadata": {},
   "source": [
    "### **Importing flat files using NumPy**\n",
    "Previously we used python open function now we will used Numpy. Numpy are used to store numerical data. It is more essential for other packages like scikit-learn which is used for ML.\\\n",
    "Numpy has more methods that make it easier to import data as numpy array. Numpy are efficient ,fast and clean which is why we use them. Numpy has 2 methods to load data.\n",
    "* loadtxt()\n",
    "* genfromtxt()\n",
    "  \n",
    "### **Using NumPy to import flat files**\n",
    "In this exercise, you're now going to load the MNIST digit recognition dataset using the numpy function loadtxt() and see just how easy it can be:\n",
    "\n",
    "The first argument will be the filename.\\\n",
    "The second will be the delimiter which, in this case, is a comma.\\\n",
    "\n",
    "### **Instructions**\n",
    "* Fill in the arguments of np.loadtxt() by passing file and a comma ',' for the delimiter.\n",
    "* Fill in the argument of print() to print the type of the object digits. Use the function type().\n",
    "* Execute the rest of the code to visualize one of the rows of the data."
   ]
  },
  {
   "cell_type": "code",
   "execution_count": 3,
   "metadata": {},
   "outputs": [
    {
     "name": "stdout",
     "output_type": "stream",
     "text": [
      "<class 'numpy.ndarray'>\n"
     ]
    },
    {
     "data": {
      "image/png": "[encoded data removed]",
      "text/plain": [
       "<Figure size 432x288 with 1 Axes>"
      ]
     },
     "metadata": {
      "needs_background": "light"
     },
     "output_type": "display_data"
    }
   ],
   "source": [
    "# Import package\n",
    "import numpy as np\n",
    "import matplotlib.pyplot as plt\n",
    "# Assign filename to variable: file\n",
    "file = 'digital.csv'\n",
    "\n",
    "# Load file as array: digits\n",
    "digits = np.loadtxt(file, delimiter=',')\n",
    "\n",
    "# Print datatype of digits\n",
    "print(type(digits))\n",
    "\n",
    "# Select and reshape a row\n",
    "im = digits[21, 1:]\n",
    "im_sq = np.reshape(im, (28, 28))\n",
    "\n",
    "# Plot reshaped data (matplotlib.pyplot already loaded as plt)\n",
    "plt.imshow(im_sq, cmap='Greys', interpolation='nearest')\n",
    "plt.show()\n"
   ]
  },
  {
   "attachments": {},
   "cell_type": "markdown",
   "metadata": {},
   "source": [
    "### **Customizing your NumPy import**\n",
    "What if there are rows, such as a header, that you don't want to import? What if your file has a delimiter other than a comma? What if you only wish to import particular columns?\n",
    "\n",
    "There are a number of arguments that np.loadtxt() takes that you'll find useful:\n",
    "\n",
    "delimiter changes the delimiter that loadtxt() is expecting.\\\n",
    "You can use ',' for comma-delimited.\\\n",
    "You can use '\\t' for tab-delimited.\\\n",
    "skiprows allows you to specify how many rows (not indices) you wish to skip\\\n",
    "usecols takes a list of the indices of the columns you wish to keep.\\\n",
    "The file that you'll be importing, digits_header.txt, has a header and is tab-delimited.\n",
    "\n",
    "### **Instructions**\n",
    "* Complete the arguments of np.loadtxt(): the file you're importing is tab-delimited, you want to skip the first row and you only want to import the first and third columns.\n",
    "* Complete the argument of the print() call in order to print the entire array that you just imported."
   ]
  },
  {
   "cell_type": "code",
   "execution_count": 8,
   "metadata": {},
   "outputs": [
    {
     "name": "stdout",
     "output_type": "stream",
     "text": [
      "[[1. 0.]\n",
      " [0. 0.]\n",
      " [1. 0.]\n",
      " [4. 0.]\n",
      " [0. 0.]\n",
      " [0. 0.]\n",
      " [7. 0.]\n",
      " [3. 0.]\n",
      " [5. 0.]\n",
      " [3. 0.]\n",
      " [8. 0.]\n",
      " [9. 0.]\n",
      " [1. 0.]\n",
      " [3. 0.]\n",
      " [3. 0.]\n",
      " [1. 0.]\n",
      " [2. 0.]\n",
      " [0. 0.]\n",
      " [7. 0.]\n",
      " [5. 0.]\n",
      " [8. 0.]\n",
      " [6. 0.]\n",
      " [2. 0.]\n",
      " [0. 0.]\n",
      " [2. 0.]\n",
      " [3. 0.]\n",
      " [6. 0.]\n",
      " [9. 0.]\n",
      " [9. 0.]\n",
      " [7. 0.]\n",
      " [8. 0.]\n",
      " [9. 0.]\n",
      " [4. 0.]\n",
      " [9. 0.]\n",
      " [2. 0.]\n",
      " [1. 0.]\n",
      " [3. 0.]\n",
      " [1. 0.]\n",
      " [1. 0.]\n",
      " [4. 0.]\n",
      " [9. 0.]\n",
      " [1. 0.]\n",
      " [4. 0.]\n",
      " [4. 0.]\n",
      " [2. 0.]\n",
      " [6. 0.]\n",
      " [3. 0.]\n",
      " [7. 0.]\n",
      " [7. 0.]\n",
      " [4. 0.]\n",
      " [7. 0.]\n",
      " [5. 0.]\n",
      " [1. 0.]\n",
      " [9. 0.]\n",
      " [0. 0.]\n",
      " [2. 0.]\n",
      " [2. 0.]\n",
      " [3. 0.]\n",
      " [9. 0.]\n",
      " [1. 0.]\n",
      " [1. 0.]\n",
      " [1. 0.]\n",
      " [5. 0.]\n",
      " [0. 0.]\n",
      " [6. 0.]\n",
      " [3. 0.]\n",
      " [4. 0.]\n",
      " [8. 0.]\n",
      " [1. 0.]\n",
      " [0. 0.]\n",
      " [3. 0.]\n",
      " [9. 0.]\n",
      " [6. 0.]\n",
      " [2. 0.]\n",
      " [6. 0.]\n",
      " [4. 0.]\n",
      " [7. 0.]\n",
      " [1. 0.]\n",
      " [4. 0.]\n",
      " [1. 0.]\n",
      " [5. 0.]\n",
      " [4. 0.]\n",
      " [8. 0.]\n",
      " [9. 0.]\n",
      " [2. 0.]\n",
      " [9. 0.]\n",
      " [9. 0.]\n",
      " [8. 0.]\n",
      " [9. 0.]\n",
      " [6. 0.]\n",
      " [3. 0.]\n",
      " [6. 0.]\n",
      " [4. 0.]\n",
      " [6. 0.]\n",
      " [2. 0.]\n",
      " [9. 0.]\n",
      " [1. 0.]\n",
      " [2. 0.]\n",
      " [0. 0.]\n",
      " [5. 0.]]\n"
     ]
    }
   ],
   "source": [
    "import numpy as np\n",
    "file='digital_headers.txt'\n",
    "digits=np.loadtxt(file,delimiter='\\t',skiprows=1,usecols=[0,3])\n",
    "print (digits)"
   ]
  },
  {
   "attachments": {},
   "cell_type": "markdown",
   "metadata": {},
   "source": [
    "### **Importing different datatypes**\n",
    "The file seaslug.txt\n",
    "\n",
    "* has a text header, consisting of strings\n",
    "* is tab-delimited.\n",
    "These data consists of percentage of sea slug larvae that had metamorphosed in a given time period. Read more here.\n",
    "\n",
    "Due to the header, if you tried to import it as-is using np.loadtxt(), Python would throw you a ValueError and tell you that it could not convert string to float. There are two ways to deal with this: firstly, you can set the data type argument dtype equal to str (for string).\n",
    "\n",
    "Alternatively, you can skip the first row as we have seen before, using the skiprows argument.\n",
    "\n",
    "> ### **Instructions**\n",
    "* Complete the first call to np.loadtxt() by passing file as the first argument.\n",
    "* Execute print(data[0]) to print the first element of data.\n",
    "* Complete the second call to np.loadtxt(). The file you're importing is tab-delimited, the datatype is float, and you want to skip the first row.\n",
    "* Print the 10th element of data_float by completing the print() command. Be guided by the previous print() call.\n",
    "* Execute the rest of the code to visualize the data."
   ]
  },
  {
   "cell_type": "code",
   "execution_count": 11,
   "metadata": {},
   "outputs": [
    {
     "name": "stdout",
     "output_type": "stream",
     "text": [
      "['Time' 'Percent']\n",
      "[0.    0.357]\n"
     ]
    },
    {
     "data": {
      "image/png": "[encoded data removed]",
      "text/plain": [
       "<Figure size 432x288 with 1 Axes>"
      ]
     },
     "metadata": {
      "needs_background": "light"
     },
     "output_type": "display_data"
    }
   ],
   "source": [
    "import numpy as np\n",
    "file= 'seaslug.txt'\n",
    "data=np.loadtxt(file,delimiter='\\t',dtype=str)\n",
    "print(data[0])\n",
    "data_float=np.loadtxt(file,delimiter='\\t',dtype=float,skiprows=1)\n",
    "print(data_float[9])\n",
    "plt.scatter(data_float[:,0],data_float[:,1])\n",
    "plt.xlabel('time')\n",
    "plt.ylabel('percentage')\n",
    "plt.show()"
   ]
  },
  {
   "attachments": {},
   "cell_type": "markdown",
   "metadata": {},
   "source": [
    "### **Working with mixed datatypes (2)**\n",
    "You have just used np.genfromtxt() to import data containing mixed datatypes. There is also another function np.recfromcsv() that behaves similarly to np.genfromtxt(), except that its default dtype is None. In this exercise, you'll practice using this to achieve the same result.\n",
    "\n",
    "> ### **Instructions**\n",
    "* Import titanic.csv using the function np.recfromcsv() and assign it to the variable, d. You'll only need to pass file to it because it has the defaults delimiter=',' and names=True in addition to dtype=None!\n",
    "* Run the remaining code to print the first three entries of the resulting array d."
   ]
  },
  {
   "cell_type": "code",
   "execution_count": 32,
   "metadata": {},
   "outputs": [
    {
     "name": "stdout",
     "output_type": "stream",
     "text": [
      "[(1, 0, 3, b'male', 22., 1, 0, b'A/5 21171',  7.25  , b'', b'S')\n",
      " (2, 1, 1, b'female', 38., 1, 0, b'PC 17599', 71.2833, b'C85', b'C')\n",
      " (3, 1, 3, b'female', 26., 0, 0, b'STON/O2. 3101282',  7.925 , b'', b'S')]\n"
     ]
    }
   ],
   "source": [
    "# Assign the filename: file\n",
    "import numpy as np\n",
    "file = 'titanics.csv'\n",
    "\n",
    "# Import file using np.recfromcsv: d\n",
    "d=np.recfromcsv('titanics.csv',delimiter=',',names=True,dtype=None)\n",
    "\n",
    "print(d[:3])"
   ]
  },
  {
   "attachments": {},
   "cell_type": "markdown",
   "metadata": {},
   "source": [
    "### **Importing Data Via Pandas**\n",
    "We have seen how to import data via numpy but there is one deficiency in mumpy which is importing 2 dimensional data labeled structure with columns of potentially different types you cant do below functions like\\\n",
    "Manipulate,slice,reshape,groupby,join,merge,perform statistics in missing values and deal with time series.\\\n",
    "Python has always been great for data munging and preparation but pandas help in EDR and other data handling like statistics instead of applying R language."
   ]
  },
  {
   "attachments": {},
   "cell_type": "markdown",
   "metadata": {},
   "source": [
    "### **Using pandas to import flat files as DataFrames**\n",
    "In the last exercise, you were able to import flat files containing columns with different datatypes as numpy arrays. However, the DataFrame object in pandas is a more appropriate structure in which to store such data and, thankfully, we can easily import files of mixed data types as DataFrames using the pandas functions read_csv() and read_table().\n",
    "\n",
    "> ### **Instructions**\n",
    "* Import the pandas package using the alias pd.\n",
    "* Read titanic.csv into a DataFrame called df. The file name is already stored in the file object.\n",
    "* In a print() call, view the head of the DataFrame."
   ]
  },
  {
   "cell_type": "code",
   "execution_count": 33,
   "metadata": {},
   "outputs": [
    {
     "name": "stdout",
     "output_type": "stream",
     "text": [
      "   PassengerId  Survived  Pclass  ...     Fare  Cabin  Embarked\n",
      "0            1         0       3  ...   7.2500    NaN         S\n",
      "1            2         1       1  ...  71.2833    C85         C\n",
      "2            3         1       3  ...   7.9250    NaN         S\n",
      "3            4         1       1  ...  53.1000   C123         S\n",
      "4            5         0       3  ...   8.0500    NaN         S\n",
      "\n",
      "[5 rows x 11 columns]\n"
     ]
    }
   ],
   "source": [
    "import pandas as pd\n",
    "d = pd.read_csv('titanics.csv')\n",
    "print(d.head())"
   ]
  },
  {
   "attachments": {},
   "cell_type": "markdown",
   "metadata": {},
   "source": [
    "### **Using pandas to import flat files as DataFrames (2)**\n",
    "In the last exercise, you were able to import flat files into a pandas DataFrame. As a bonus, it is then straightforward to retrieve the corresponding numpy array using the attribute values. You'll now have a chance to do this using the MNIST dataset, which is available as digits.csv.\n",
    "\n",
    "> ### **Instructions**\n",
    "* Import the first 5 rows of the file into a DataFrame using the function pd.read_csv() and assign the result to data. You'll need to use the arguments nrows and header (there is no header in this file).\n",
    "* Build a numpy array from the resulting DataFrame in data and assign to data_array.\n",
    "* Execute print(type(data_array)) to print the datatype of data_array."
   ]
  },
  {
   "cell_type": "code",
   "execution_count": 37,
   "metadata": {},
   "outputs": [
    {
     "name": "stdout",
     "output_type": "stream",
     "text": [
      "[[1. 0. 0. ... 0. 0. 0.]\n",
      " [0. 0. 0. ... 0. 0. 0.]\n",
      " [1. 0. 0. ... 0. 0. 0.]\n",
      " [4. 0. 0. ... 0. 0. 0.]\n",
      " [0. 0. 0. ... 0. 0. 0.]]\n",
      "(5, 785)\n",
      "   0    1    2    3    4    5    6    ...  778  779  780  781  782  783  784\n",
      "0  1.0  0.0  0.0  0.0  0.0  0.0  0.0  ...  0.0  0.0  0.0  0.0  0.0  0.0  0.0\n",
      "1  0.0  0.0  0.0  0.0  0.0  0.0  0.0  ...  0.0  0.0  0.0  0.0  0.0  0.0  0.0\n",
      "2  1.0  0.0  0.0  0.0  0.0  0.0  0.0  ...  0.0  0.0  0.0  0.0  0.0  0.0  0.0\n",
      "3  4.0  0.0  0.0  0.0  0.0  0.0  0.0  ...  0.0  0.0  0.0  0.0  0.0  0.0  0.0\n",
      "4  0.0  0.0  0.0  0.0  0.0  0.0  0.0  ...  0.0  0.0  0.0  0.0  0.0  0.0  0.0\n",
      "\n",
      "[5 rows x 785 columns]\n"
     ]
    }
   ],
   "source": [
    "import pandas as pd \n",
    "data=pd.read_csv('digital.csv',header=None,nrows=5)\n",
    "print (data.values)\n",
    "print(np.shape(data.values))\n",
    "print (data)"
   ]
  },
  {
   "attachments": {},
   "cell_type": "markdown",
   "metadata": {},
   "source": [
    "### **Customizing your pandas import**\n",
    "The pandas package is also great at dealing with many of the issues you will encounter when importing data as a data scientist, such as comments occurring in flat files, empty lines and missing values. Note that missing values are also commonly referred to as NA or NaN. To wrap up this chapter, you're now going to import a slightly corrupted copy of the Titanic dataset titanic_corrupt.txt, which\n",
    "\n",
    "* contains comments after the character '#'\n",
    "* is tab-delimited.\n",
    "\n",
    "> ### **Instructions**\n",
    "* Complete the sep (the pandas version of delim), comment and na_values arguments of pd.read_csv(). comment takes characters that comments occur after in the file, which in this case is '#'. na_values takes a list of strings to recognize as NA/NaN, in this case the string 'Nothing'.\n",
    "* Execute the rest of the code to print the head of the resulting DataFrame and plot the histogram of the 'Age' of passengers aboard the Titanic."
   ]
  },
  {
   "cell_type": "code",
   "execution_count": 42,
   "metadata": {},
   "outputs": [
    {
     "name": "stdout",
     "output_type": "stream",
     "text": [
      "   PassengerId  Survived  Pclass  ...    Fare  Cabin  Embarked\n",
      "0            1         0       3  ...   7.250    NaN        S \n",
      "1            2         1       1  ...     NaN    NaN       NaN\n",
      "2            3         1       3  ...   7.925    NaN         S\n",
      "3            4         1       1  ...  53.100   C123         S\n",
      "4            5         0       3  ...   8.050    NaN         S\n",
      "\n",
      "[5 rows x 11 columns]\n"
     ]
    },
    {
     "data": {
      "image/png": "[encoded data removed]",
      "text/plain": [
       "<Figure size 432x288 with 1 Axes>"
      ]
     },
     "metadata": {
      "needs_background": "light"
     },
     "output_type": "display_data"
    }
   ],
   "source": [
    "# Import matplotlib.pyplot as plt\n",
    "import matplotlib.pyplot as plt\n",
    "\n",
    "import pandas as pd\n",
    "import numpy as np\n",
    "\n",
    "\n",
    "# Assign filename: file\n",
    "file = 'titanic_corrupt.csv'\n",
    "\n",
    "# Import file: data\n",
    "data = pd.read_csv(file, sep='\\t', comment='#', na_values='Nothing')\n",
    "\n",
    "# Print the head of the DataFrame\n",
    "print(data.head())\n",
    "\n",
    "# Plot 'Age' variable in a histogram\n",
    "pd.DataFrame.hist(data[['Age']])\n",
    "plt.xlabel('Age (years)')\n",
    "plt.ylabel('count')\n",
    "plt.show()\n"
   ]
  },
  {
   "attachments": {},
   "cell_type": "markdown",
   "metadata": {},
   "source": [
    "### **Introduction to other file types**\n",
    "Other file types\n",
    "* Excel spreadsheet files \n",
    "* MATLAB files\n",
    "* SAS files\n",
    "* stata files\n",
    "* HDF5 files\n",
    "* **pickled files**\n",
    "* File type native to python\n",
    "* It is easy to store numpy array and pandas dataframe to a flate file.There are other data types like dictionary and List for which it not obvious to store them. JSON file can be used for dictionary.\n",
    "* If we want to store them we can serialize them and to read we deserialize .All this means is converting the object to bytestreama and store it or transfer it over the internet."
   ]
  },
  {
   "attachments": {},
   "cell_type": "markdown",
   "metadata": {},
   "source": [
    "### **Not so flat any more**\n",
    "We can use ! ls in python shell to list what is in my current directory. You can also do this natively in Python using the library os, which consists of miscellaneous operating system interfaces.\n",
    "\n",
    "The first line of the following code imports the library os, the second line stores the name of the current directory in a string called wd and the third outputs the contents of the directory in a list to the shell.\n",
    "\n",
    "import os\\\n",
    "wd = os.getcwd()\\\n",
    "os.listdir(wd)\\\n",
    "Run this code in the IPython shell and answer the following questions. Ignore the files that begin with ..\n",
    "\n",
    "Check out the contents of your current directory and answer the following questions: (1) which file is in your directory and NOT an example of a flat file; (2) why is it not a flat file?"
   ]
  },
  {
   "cell_type": "code",
   "execution_count": 45,
   "metadata": {},
   "outputs": [
    {
     "data": {
      "text/plain": [
       "['cars.csv.xlsx',\n",
       " 'chapter1_basic.ipynb',\n",
       " 'digital.csv',\n",
       " 'digital_headers.txt',\n",
       " 'Importing_data_via_Python.ipynb',\n",
       " 'Intermidate_python.ipynb',\n",
       " 'moby_dick.txt',\n",
       " 'Practice Exams.ipynb',\n",
       " 'Python-For-DataScience.code-workspace',\n",
       " 'seaslug.txt',\n",
       " 'titanics.csv',\n",
       " 'titanic_corrupt.csv']"
      ]
     },
     "execution_count": 45,
     "metadata": {},
     "output_type": "execute_result"
    }
   ],
   "source": [
    "import os\n",
    "wd = os.getcwd()\n",
    "os.listdir(wd)\n"
   ]
  },
  {
   "attachments": {},
   "cell_type": "markdown",
   "metadata": {},
   "source": [
    "### **Loading a pickled file**\n",
    "There are a number of datatypes that cannot be saved easily to flat files, such as lists and dictionaries. If you want your files to be human readable, you may want to save them as text files in a clever manner. JSONs, which you will see in a later chapter, are appropriate for Python dictionaries.\n",
    "\n",
    "However, if you merely want to be able to import them into Python, you can deserialize them. All this means is converting the object into a sequence of bytes, or a bytestream.\n",
    "\n",
    "In this exercise, you'll import the pickle package, open a previously pickled data structure from a file and load it.\n",
    "\n",
    "> ### **Instructions**\n",
    "* Import the pickle package.\n",
    "* Complete the second argument of open() so that it is read only for a binary file. This argument will be a string of two letters, one signifying 'read only', the other 'binary'.\n",
    "* Pass the correct argument to pickle.load(); it should use the variable that is bound to open.\n",
    "* Print the data, d.\n",
    "* Print the datatype of d; take your mind back to your previous use of the function type()."
   ]
  },
  {
   "cell_type": "code",
   "execution_count": 54,
   "metadata": {},
   "outputs": [],
   "source": [
    "###  It opens a file named \"abc.pkl\" in binary write mode ('wb'). The file will be created in the same directory as your script.\n",
    "###  It uses the pickle.dump() function to serialize (pickle) the datas dictionary and save it to the \"abc.pkl\" file.\n",
    "\n",
    "datas={'June': '69.4', 'Aug': '85', 'Airline': '8', 'Mar': '84.4'}\n",
    "with open('abc.pkl','wb') as files:\n",
    "    pickle.dump(datas,files)"
   ]
  },
  {
   "cell_type": "code",
   "execution_count": 53,
   "metadata": {},
   "outputs": [
    {
     "name": "stdout",
     "output_type": "stream",
     "text": [
      "{'June': '69.4', 'Aug': '85', 'Airline': '8', 'Mar': '84.4'}\n",
      "<class 'dict'>\n"
     ]
    }
   ],
   "source": [
    "## To use this serialized data later, you can load it from the pickle file using the pickle.load() function.\n",
    "## This process involves deserialization, where the serialized data is converted back into a Python object (in this case, the dictionary datas).\n",
    "\n",
    "\n",
    "import pickle\n",
    "with open('abc.pkl','rb') as file:\n",
    "    d = pickle.load(file)\n",
    "print(d)\n",
    "print (type(d))"
   ]
  },
  {
   "attachments": {},
   "cell_type": "markdown",
   "metadata": {},
   "source": [
    "### **Listing sheets in Excel files**\n",
    "Whether you like it or not, any working data scientist will need to deal with Excel spreadsheets at some point in time. You won't always want to do so in Excel, however!\n",
    "\n",
    "Here, you'll learn how to use pandas to import Excel spreadsheets and how to list the names of the sheets in any loaded .xlsx file.\n",
    "\n",
    "Given an Excel file imported into a variable spreadsheet, you can retrieve a list of the sheet names using the attribute spreadsheet.sheet_names.\n",
    "\n",
    "Specifically, you'll be loading and checking out the spreadsheet 'data_ex.xlsx'.\n",
    "\n",
    "> ### **Instructions**\n",
    "* Assign the spreadsheet filename (provided above) to the variable file.\n",
    "* Pass the correct argument to pd.ExcelFile() to load the file using pandas, assigning the result to the variable xls.\n",
    "* Print the sheetnames of the Excel spreadsheet by passing the necessary argument to the print() function."
   ]
  },
  {
   "cell_type": "code",
   "execution_count": 55,
   "metadata": {},
   "outputs": [
    {
     "name": "stdout",
     "output_type": "stream",
     "text": [
      "['1993', '1994', '1995']\n"
     ]
    }
   ],
   "source": [
    "import pandas as pd \n",
    "ps=pd.ExcelFile('data_ex.xlsx')\n",
    "print(ps.sheet_names)"
   ]
  },
  {
   "attachments": {},
   "cell_type": "markdown",
   "metadata": {},
   "source": [
    "### **Importing sheets from Excel files**\n",
    "In the previous exercises, you saw that the Excel file contains two sheets, '1993' and '1994'. The next step is to import these.\n",
    "\n",
    "In this exercise, you'll learn how to import any given sheet of your loaded .xlsx file as a DataFrame. You'll be able to do so by specifying either the sheet's name or its index.\n",
    "\n",
    "### **Instructions**\n",
    "* Load the sheet '1994' into the DataFrame df1 using its name as a string.\n",
    "* Print the head of df1 to the shell.\n",
    "* Load the sheet 1993 into the DataFrame df2 using its index (0).\n",
    "* Print the head of df2 to the shell."
   ]
  },
  {
   "cell_type": "code",
   "execution_count": 63,
   "metadata": {},
   "outputs": [
    {
     "name": "stdout",
     "output_type": "stream",
     "text": [
      "           War  age-adjusted mortality due to 2002\n",
      "0  Afghanistan                              36.084\n",
      "1      Albania                               0.129\n",
      "2      Algeria                              18.314\n",
      "3      Andorra                               0.000\n",
      "4       Angola                              18.965\n",
      "  War(country)   1994\n",
      "0  Afghanistan  9.451\n",
      "1      Albania  0.130\n",
      "2      Algeria  3.407\n",
      "3      Andorra  0.000\n",
      "4       Angola  2.598\n"
     ]
    }
   ],
   "source": [
    "import pandas as pd\n",
    "d =pd.ExcelFile('data_ex1.xlsx')\n",
    "df1=d.parse('1994')\n",
    "df2=d.parse(0)\n",
    "print(df2)\n",
    "print(df1)"
   ]
  },
  {
   "attachments": {},
   "cell_type": "markdown",
   "metadata": {},
   "source": [
    "### **Customizing your spreadsheet import**\n",
    "Here, you'll parse your spreadsheets and use additional arguments to skip rows, rename columns and select only particular columns.\n",
    "\n",
    "The spreadsheet 'battledeath.xlsx' is already loaded as xls.\n",
    "\n",
    "As before, you'll use the method parse(). This time, however, you'll add the additional arguments skiprows, names and usecols. These skip rows, name the columns and designate which columns to parse, respectively. All these arguments can be assigned to lists containing the specific row numbers, strings and column numbers, as appropriate.\n",
    "\n",
    "### **Instructions**\n",
    "* Parse the first sheet by index. In doing so, skip the first row of data and name the columns 'Country' and 'AAM due to War (2002)' using the argument names. The values passed to skiprows and names all need to be of type list.\n",
    "* Parse the second sheet by index. In doing so, parse only the first column with the usecols parameter, skip the first row and rename the column 'Country'. The argument passed to usecols also needs to be of type list."
   ]
  },
  {
   "cell_type": "code",
   "execution_count": 20,
   "metadata": {},
   "outputs": [
    {
     "name": "stdout",
     "output_type": "stream",
     "text": [
      "           War  age-adjusted mortality due to 2002\n",
      "0  Afghanistan                              36.084\n",
      "1      Albania                               0.129\n",
      "2      Algeria                              18.314\n",
      "3      Andorra                               0.000\n",
      "4       Angola                              18.965\n",
      "       War\n",
      "0  Albania\n",
      "1  Algeria\n",
      "2  Andorra\n",
      "3   Angola\n",
      "  War(country)   1994\n",
      "0  Afghanistan  9.451\n",
      "1      Albania  0.130\n",
      "2      Algeria  3.407\n",
      "3      Andorra  0.000\n",
      "4       Angola  2.598\n",
      "          1994\n",
      "Albania  0.130\n",
      "Algeria  3.407\n",
      "Andorra  0.000\n",
      "Angola   2.598\n"
     ]
    }
   ],
   "source": [
    "import pandas as pd\n",
    "dd=pd.ExcelFile('data_ex1.xlsx')\n",
    "print(dd.parse(0))\n",
    "ds=dd.parse(0,usecols=['War'],names=['War','age-adjusted mortality due to 2002'],skiprows=1)\n",
    "print(ds)\n",
    "### second sheet\n",
    "print(dd.parse(1))\n",
    "df=dd.parse(1,skiprows=1,names=['1994'])\n",
    "print(df)"
   ]
  },
  {
   "attachments": {},
   "cell_type": "markdown",
   "metadata": {},
   "source": [
    "### **Importing SAS files**\n",
    "In this exercise, you'll figure out how to import a SAS file as a DataFrame using SAS7BDAT and pandas. The file 'sales.sas7bdat' is already in your working directory and both pandas and matplotlib.pyplot have already been imported as follows:\n",
    "\n",
    "import pandas as pd\\\n",
    "import matplotlib.pyplot as plt\\\n",
    "The data are adapted from the website of the undergraduate text book Principles of Econometrics by Hill, Griffiths and Lim.\n",
    "\n",
    "> ### **Instructions**\n",
    "* Import the module SAS7BDAT from the library sas7bdat.\n",
    "* In the context of the file 'sales.sas7bdat', load its contents to a DataFrame df_sas, using the method to_data_frame() on the object file.\n",
    "* Print the head of the DataFrame df_sas.\n",
    "* Execute your entire script to produce a histogram plot!"
   ]
  },
  {
   "cell_type": "code",
   "execution_count": 4,
   "metadata": {},
   "outputs": [
    {
     "name": "stdout",
     "output_type": "stream",
     "text": [
      "   Employee_ID First_Name Last_Name Gender    Salary      Job_Title Country  \\\n",
      "0     120102.0        Tom      Zhou      M  108255.0  Sales Manager      AU   \n",
      "1     120103.0     Wilson     Dawes      M   87975.0  Sales Manager      AU   \n",
      "2     120121.0     Irenie    Elvish      F   26600.0  Sales Rep. II      AU   \n",
      "3     120122.0  Christina      Ngan      F   27475.0  Sales Rep. II      AU   \n",
      "4     120123.0     Kimiko  Hotstone      F   26190.0   Sales Rep. I      AU   \n",
      "\n",
      "   Birth_Date  Hire_Date  \n",
      "0      4971.0    12205.0  \n",
      "1     -2535.0     6575.0  \n",
      "2     -4169.0     6575.0  \n",
      "3      -523.0     8217.0  \n",
      "4      3193.0    10866.0  \n"
     ]
    },
    {
     "data": {
      "application/javascript": "\n        if (window._pyforest_update_imports_cell) { window._pyforest_update_imports_cell('import matplotlib.pyplot as plt'); }\n    ",
      "text/plain": [
       "<IPython.core.display.Javascript object>"
      ]
     },
     "metadata": {},
     "output_type": "display_data"
    },
    {
     "data": {
      "application/javascript": "\n        if (window._pyforest_update_imports_cell) { window._pyforest_update_imports_cell('import matplotlib.pyplot as plt'); }\n    ",
      "text/plain": [
       "<IPython.core.display.Javascript object>"
      ]
     },
     "metadata": {},
     "output_type": "display_data"
    },
    {
     "data": {
      "application/javascript": "\n        if (window._pyforest_update_imports_cell) { window._pyforest_update_imports_cell('import matplotlib.pyplot as plt'); }\n    ",
      "text/plain": [
       "<IPython.core.display.Javascript object>"
      ]
     },
     "metadata": {},
     "output_type": "display_data"
    },
    {
     "data": {
      "image/png": "[encoded data removed]",
      "text/plain": [
       "<Figure size 432x288 with 1 Axes>"
      ]
     },
     "metadata": {
      "needs_background": "light"
     },
     "output_type": "display_data"
    }
   ],
   "source": [
    "import pandas as pd\n",
    "# from sas7bdat import SAS7BDAT\n",
    "from sas7bdat import SAS7BDAT\n",
    "sas7bdat_file='sales.sas7bdat'\n",
    "# dd = pd.read_excel('ssas.xlsx')\n",
    "with SAS7BDAT(sas7bdat_file) as file:\n",
    "    df=file.to_data_frame()\n",
    "print(df.head())\n",
    "plt.hist(df[['Salary']])\n",
    "plt.ylabel('count')\n",
    "plt.show()"
   ]
  },
  {
   "attachments": {},
   "cell_type": "markdown",
   "metadata": {},
   "source": [
    "### **Using read_stata to import Stata files**\n",
    "The pandas package has been imported in the environment as pd and the file disarea.dta is in your working directory. The data consist of disease extents for several diseases in various countries.\n",
    "\n",
    "What is the correct way of using the read_stata() function to import disarea.dta into the object df?\n",
    "\n",
    "Solution::\n",
    "* First I am gonna make dta file then I will read that file.\n",
    "* Created a xlsx file that will be imported by pandas and then by using df.to_state() function it is written.\n",
    "* Now we are ready to do this exercise of importing stata file."
   ]
  },
  {
   "cell_type": "code",
   "execution_count": 6,
   "metadata": {},
   "outputs": [
    {
     "data": {
      "text/html": [
       "<div>\n",
       "<style scoped>\n",
       "    .dataframe tbody tr th:only-of-type {\n",
       "        vertical-align: middle;\n",
       "    }\n",
       "\n",
       "    .dataframe tbody tr th {\n",
       "        vertical-align: top;\n",
       "    }\n",
       "\n",
       "    .dataframe thead th {\n",
       "        text-align: right;\n",
       "    }\n",
       "</style>\n",
       "<table border=\"1\" class=\"dataframe\">\n",
       "  <thead>\n",
       "    <tr style=\"text-align: right;\">\n",
       "      <th></th>\n",
       "      <th>wbcode</th>\n",
       "      <th>country</th>\n",
       "      <th>disa1</th>\n",
       "      <th>disa2</th>\n",
       "      <th>disa3</th>\n",
       "      <th>disa4</th>\n",
       "      <th>disa5</th>\n",
       "      <th>disa6</th>\n",
       "      <th>disa7</th>\n",
       "      <th>disa8</th>\n",
       "      <th>disa9</th>\n",
       "      <th>disa10</th>\n",
       "      <th>disa11</th>\n",
       "      <th>disa12</th>\n",
       "      <th>disa13</th>\n",
       "      <th>disa14</th>\n",
       "      <th>disa15</th>\n",
       "      <th>disa16</th>\n",
       "      <th>disa17</th>\n",
       "      <th>disa18</th>\n",
       "      <th>disa19</th>\n",
       "      <th>disa20</th>\n",
       "      <th>disa21</th>\n",
       "      <th>disa22</th>\n",
       "      <th>disa23</th>\n",
       "      <th>disa24</th>\n",
       "      <th>disa25</th>\n",
       "    </tr>\n",
       "  </thead>\n",
       "  <tbody>\n",
       "    <tr>\n",
       "      <th>0</th>\n",
       "      <td>AFG</td>\n",
       "      <td>Afghanistan</td>\n",
       "      <td>0.00</td>\n",
       "      <td>0.00</td>\n",
       "      <td>0.76</td>\n",
       "      <td>0.73</td>\n",
       "      <td>0</td>\n",
       "      <td>0.00</td>\n",
       "      <td>0.00</td>\n",
       "      <td>0</td>\n",
       "      <td>0.00</td>\n",
       "      <td>0.00</td>\n",
       "      <td>0</td>\n",
       "      <td>0</td>\n",
       "      <td>0.06</td>\n",
       "      <td>0</td>\n",
       "      <td>0.00</td>\n",
       "      <td>0</td>\n",
       "      <td>0.0</td>\n",
       "      <td>0</td>\n",
       "      <td>0.00</td>\n",
       "      <td>0.00</td>\n",
       "      <td>0</td>\n",
       "      <td>0.00</td>\n",
       "      <td>0.02</td>\n",
       "      <td>0.00</td>\n",
       "      <td>0.00</td>\n",
       "    </tr>\n",
       "    <tr>\n",
       "      <th>1</th>\n",
       "      <td>AGO</td>\n",
       "      <td>Angola</td>\n",
       "      <td>0.32</td>\n",
       "      <td>0.02</td>\n",
       "      <td>0.56</td>\n",
       "      <td>0.00</td>\n",
       "      <td>0</td>\n",
       "      <td>0.00</td>\n",
       "      <td>0.56</td>\n",
       "      <td>0</td>\n",
       "      <td>0.00</td>\n",
       "      <td>0.13</td>\n",
       "      <td>0</td>\n",
       "      <td>0</td>\n",
       "      <td>0.00</td>\n",
       "      <td>0</td>\n",
       "      <td>0.06</td>\n",
       "      <td>0</td>\n",
       "      <td>0.4</td>\n",
       "      <td>0</td>\n",
       "      <td>0.61</td>\n",
       "      <td>0.00</td>\n",
       "      <td>0</td>\n",
       "      <td>0.99</td>\n",
       "      <td>0.98</td>\n",
       "      <td>0.61</td>\n",
       "      <td>0.00</td>\n",
       "    </tr>\n",
       "    <tr>\n",
       "      <th>2</th>\n",
       "      <td>ALB</td>\n",
       "      <td>Albania</td>\n",
       "      <td>0.00</td>\n",
       "      <td>0.00</td>\n",
       "      <td>0.02</td>\n",
       "      <td>0.00</td>\n",
       "      <td>0</td>\n",
       "      <td>0.00</td>\n",
       "      <td>0.00</td>\n",
       "      <td>0</td>\n",
       "      <td>0.00</td>\n",
       "      <td>0.00</td>\n",
       "      <td>0</td>\n",
       "      <td>0</td>\n",
       "      <td>0.00</td>\n",
       "      <td>0</td>\n",
       "      <td>0.99</td>\n",
       "      <td>0</td>\n",
       "      <td>0.0</td>\n",
       "      <td>0</td>\n",
       "      <td>0.00</td>\n",
       "      <td>0.00</td>\n",
       "      <td>0</td>\n",
       "      <td>0.00</td>\n",
       "      <td>0.00</td>\n",
       "      <td>0.00</td>\n",
       "      <td>0.16</td>\n",
       "    </tr>\n",
       "    <tr>\n",
       "      <th>3</th>\n",
       "      <td>ARE</td>\n",
       "      <td>United Arab Emirates</td>\n",
       "      <td>0.00</td>\n",
       "      <td>0.00</td>\n",
       "      <td>0.00</td>\n",
       "      <td>0.00</td>\n",
       "      <td>0</td>\n",
       "      <td>0.00</td>\n",
       "      <td>0.00</td>\n",
       "      <td>0</td>\n",
       "      <td>0.00</td>\n",
       "      <td>0.00</td>\n",
       "      <td>0</td>\n",
       "      <td>0</td>\n",
       "      <td>0.00</td>\n",
       "      <td>0</td>\n",
       "      <td>0.00</td>\n",
       "      <td>0</td>\n",
       "      <td>0.0</td>\n",
       "      <td>0</td>\n",
       "      <td>0.00</td>\n",
       "      <td>0.00</td>\n",
       "      <td>0</td>\n",
       "      <td>0.00</td>\n",
       "      <td>0.00</td>\n",
       "      <td>0.00</td>\n",
       "      <td>0.00</td>\n",
       "    </tr>\n",
       "    <tr>\n",
       "      <th>4</th>\n",
       "      <td>ARG</td>\n",
       "      <td>Argentina</td>\n",
       "      <td>0.00</td>\n",
       "      <td>0.24</td>\n",
       "      <td>0.24</td>\n",
       "      <td>0.00</td>\n",
       "      <td>0</td>\n",
       "      <td>0.23</td>\n",
       "      <td>0.00</td>\n",
       "      <td>0</td>\n",
       "      <td>0.19</td>\n",
       "      <td>0.00</td>\n",
       "      <td>0</td>\n",
       "      <td>0</td>\n",
       "      <td>0.00</td>\n",
       "      <td>0</td>\n",
       "      <td>0.23</td>\n",
       "      <td>0</td>\n",
       "      <td>0.0</td>\n",
       "      <td>0</td>\n",
       "      <td>0.00</td>\n",
       "      <td>0.05</td>\n",
       "      <td>0</td>\n",
       "      <td>0.00</td>\n",
       "      <td>0.01</td>\n",
       "      <td>0.00</td>\n",
       "      <td>0.11</td>\n",
       "    </tr>\n",
       "  </tbody>\n",
       "</table>\n",
       "</div>"
      ],
      "text/plain": [
       "  wbcode               country  disa1  disa2  disa3  disa4  disa5  disa6  \\\n",
       "0    AFG           Afghanistan   0.00   0.00   0.76   0.73      0   0.00   \n",
       "1    AGO                Angola   0.32   0.02   0.56   0.00      0   0.00   \n",
       "2    ALB               Albania   0.00   0.00   0.02   0.00      0   0.00   \n",
       "3    ARE  United Arab Emirates   0.00   0.00   0.00   0.00      0   0.00   \n",
       "4    ARG             Argentina   0.00   0.24   0.24   0.00      0   0.23   \n",
       "\n",
       "   disa7  disa8  disa9  disa10  disa11  disa12  disa13  disa14  disa15  \\\n",
       "0   0.00      0   0.00    0.00       0       0    0.06       0    0.00   \n",
       "1   0.56      0   0.00    0.13       0       0    0.00       0    0.06   \n",
       "2   0.00      0   0.00    0.00       0       0    0.00       0    0.99   \n",
       "3   0.00      0   0.00    0.00       0       0    0.00       0    0.00   \n",
       "4   0.00      0   0.19    0.00       0       0    0.00       0    0.23   \n",
       "\n",
       "   disa16  disa17  disa18  disa19  disa20  disa21  disa22  disa23  disa24  \\\n",
       "0       0     0.0       0    0.00    0.00       0    0.00    0.02    0.00   \n",
       "1       0     0.4       0    0.61    0.00       0    0.99    0.98    0.61   \n",
       "2       0     0.0       0    0.00    0.00       0    0.00    0.00    0.00   \n",
       "3       0     0.0       0    0.00    0.00       0    0.00    0.00    0.00   \n",
       "4       0     0.0       0    0.00    0.05       0    0.00    0.01    0.00   \n",
       "\n",
       "   disa25  \n",
       "0    0.00  \n",
       "1    0.00  \n",
       "2    0.16  \n",
       "3    0.00  \n",
       "4    0.11  "
      ]
     },
     "execution_count": 6,
     "metadata": {},
     "output_type": "execute_result"
    }
   ],
   "source": [
    "\n",
    "df =pd.read_excel('disarea.xlsx')\n",
    "df.to_stata('disarea1.dta',write_index=False)\n",
    "### to display all the columns of the data frame\n",
    "pd.set_option('display.max_columns', None)\n",
    "df"
   ]
  },
  {
   "cell_type": "code",
   "execution_count": 7,
   "metadata": {},
   "outputs": [
    {
     "data": {
      "text/html": [
       "<div>\n",
       "<style scoped>\n",
       "    .dataframe tbody tr th:only-of-type {\n",
       "        vertical-align: middle;\n",
       "    }\n",
       "\n",
       "    .dataframe tbody tr th {\n",
       "        vertical-align: top;\n",
       "    }\n",
       "\n",
       "    .dataframe thead th {\n",
       "        text-align: right;\n",
       "    }\n",
       "</style>\n",
       "<table border=\"1\" class=\"dataframe\">\n",
       "  <thead>\n",
       "    <tr style=\"text-align: right;\">\n",
       "      <th></th>\n",
       "      <th>wbcode</th>\n",
       "      <th>country</th>\n",
       "      <th>disa1</th>\n",
       "      <th>disa2</th>\n",
       "      <th>disa3</th>\n",
       "      <th>disa4</th>\n",
       "      <th>disa5</th>\n",
       "      <th>disa6</th>\n",
       "      <th>disa7</th>\n",
       "      <th>disa8</th>\n",
       "      <th>disa9</th>\n",
       "      <th>disa10</th>\n",
       "      <th>disa11</th>\n",
       "      <th>disa12</th>\n",
       "      <th>disa13</th>\n",
       "      <th>disa14</th>\n",
       "      <th>disa15</th>\n",
       "      <th>disa16</th>\n",
       "      <th>disa17</th>\n",
       "      <th>disa18</th>\n",
       "      <th>disa19</th>\n",
       "      <th>disa20</th>\n",
       "      <th>disa21</th>\n",
       "      <th>disa22</th>\n",
       "      <th>disa23</th>\n",
       "      <th>disa24</th>\n",
       "      <th>disa25</th>\n",
       "    </tr>\n",
       "  </thead>\n",
       "  <tbody>\n",
       "    <tr>\n",
       "      <th>0</th>\n",
       "      <td>AFG</td>\n",
       "      <td>Afghanistan</td>\n",
       "      <td>0.00</td>\n",
       "      <td>0.00</td>\n",
       "      <td>0.76</td>\n",
       "      <td>0.73</td>\n",
       "      <td>0</td>\n",
       "      <td>0.00</td>\n",
       "      <td>0.00</td>\n",
       "      <td>0</td>\n",
       "      <td>0.00</td>\n",
       "      <td>0.00</td>\n",
       "      <td>0</td>\n",
       "      <td>0</td>\n",
       "      <td>0.06</td>\n",
       "      <td>0</td>\n",
       "      <td>0.00</td>\n",
       "      <td>0</td>\n",
       "      <td>0.0</td>\n",
       "      <td>0</td>\n",
       "      <td>0.00</td>\n",
       "      <td>0.00</td>\n",
       "      <td>0</td>\n",
       "      <td>0.00</td>\n",
       "      <td>0.02</td>\n",
       "      <td>0.00</td>\n",
       "      <td>0.00</td>\n",
       "    </tr>\n",
       "    <tr>\n",
       "      <th>1</th>\n",
       "      <td>AGO</td>\n",
       "      <td>Angola</td>\n",
       "      <td>0.32</td>\n",
       "      <td>0.02</td>\n",
       "      <td>0.56</td>\n",
       "      <td>0.00</td>\n",
       "      <td>0</td>\n",
       "      <td>0.00</td>\n",
       "      <td>0.56</td>\n",
       "      <td>0</td>\n",
       "      <td>0.00</td>\n",
       "      <td>0.13</td>\n",
       "      <td>0</td>\n",
       "      <td>0</td>\n",
       "      <td>0.00</td>\n",
       "      <td>0</td>\n",
       "      <td>0.06</td>\n",
       "      <td>0</td>\n",
       "      <td>0.4</td>\n",
       "      <td>0</td>\n",
       "      <td>0.61</td>\n",
       "      <td>0.00</td>\n",
       "      <td>0</td>\n",
       "      <td>0.99</td>\n",
       "      <td>0.98</td>\n",
       "      <td>0.61</td>\n",
       "      <td>0.00</td>\n",
       "    </tr>\n",
       "    <tr>\n",
       "      <th>2</th>\n",
       "      <td>ALB</td>\n",
       "      <td>Albania</td>\n",
       "      <td>0.00</td>\n",
       "      <td>0.00</td>\n",
       "      <td>0.02</td>\n",
       "      <td>0.00</td>\n",
       "      <td>0</td>\n",
       "      <td>0.00</td>\n",
       "      <td>0.00</td>\n",
       "      <td>0</td>\n",
       "      <td>0.00</td>\n",
       "      <td>0.00</td>\n",
       "      <td>0</td>\n",
       "      <td>0</td>\n",
       "      <td>0.00</td>\n",
       "      <td>0</td>\n",
       "      <td>0.99</td>\n",
       "      <td>0</td>\n",
       "      <td>0.0</td>\n",
       "      <td>0</td>\n",
       "      <td>0.00</td>\n",
       "      <td>0.00</td>\n",
       "      <td>0</td>\n",
       "      <td>0.00</td>\n",
       "      <td>0.00</td>\n",
       "      <td>0.00</td>\n",
       "      <td>0.16</td>\n",
       "    </tr>\n",
       "    <tr>\n",
       "      <th>3</th>\n",
       "      <td>ARE</td>\n",
       "      <td>United Arab Emirates</td>\n",
       "      <td>0.00</td>\n",
       "      <td>0.00</td>\n",
       "      <td>0.00</td>\n",
       "      <td>0.00</td>\n",
       "      <td>0</td>\n",
       "      <td>0.00</td>\n",
       "      <td>0.00</td>\n",
       "      <td>0</td>\n",
       "      <td>0.00</td>\n",
       "      <td>0.00</td>\n",
       "      <td>0</td>\n",
       "      <td>0</td>\n",
       "      <td>0.00</td>\n",
       "      <td>0</td>\n",
       "      <td>0.00</td>\n",
       "      <td>0</td>\n",
       "      <td>0.0</td>\n",
       "      <td>0</td>\n",
       "      <td>0.00</td>\n",
       "      <td>0.00</td>\n",
       "      <td>0</td>\n",
       "      <td>0.00</td>\n",
       "      <td>0.00</td>\n",
       "      <td>0.00</td>\n",
       "      <td>0.00</td>\n",
       "    </tr>\n",
       "    <tr>\n",
       "      <th>4</th>\n",
       "      <td>ARG</td>\n",
       "      <td>Argentina</td>\n",
       "      <td>0.00</td>\n",
       "      <td>0.24</td>\n",
       "      <td>0.24</td>\n",
       "      <td>0.00</td>\n",
       "      <td>0</td>\n",
       "      <td>0.23</td>\n",
       "      <td>0.00</td>\n",
       "      <td>0</td>\n",
       "      <td>0.19</td>\n",
       "      <td>0.00</td>\n",
       "      <td>0</td>\n",
       "      <td>0</td>\n",
       "      <td>0.00</td>\n",
       "      <td>0</td>\n",
       "      <td>0.23</td>\n",
       "      <td>0</td>\n",
       "      <td>0.0</td>\n",
       "      <td>0</td>\n",
       "      <td>0.00</td>\n",
       "      <td>0.05</td>\n",
       "      <td>0</td>\n",
       "      <td>0.00</td>\n",
       "      <td>0.01</td>\n",
       "      <td>0.00</td>\n",
       "      <td>0.11</td>\n",
       "    </tr>\n",
       "  </tbody>\n",
       "</table>\n",
       "</div>"
      ],
      "text/plain": [
       "  wbcode               country  disa1  disa2  disa3  disa4  disa5  disa6  \\\n",
       "0    AFG           Afghanistan   0.00   0.00   0.76   0.73      0   0.00   \n",
       "1    AGO                Angola   0.32   0.02   0.56   0.00      0   0.00   \n",
       "2    ALB               Albania   0.00   0.00   0.02   0.00      0   0.00   \n",
       "3    ARE  United Arab Emirates   0.00   0.00   0.00   0.00      0   0.00   \n",
       "4    ARG             Argentina   0.00   0.24   0.24   0.00      0   0.23   \n",
       "\n",
       "   disa7  disa8  disa9  disa10  disa11  disa12  disa13  disa14  disa15  \\\n",
       "0   0.00      0   0.00    0.00       0       0    0.06       0    0.00   \n",
       "1   0.56      0   0.00    0.13       0       0    0.00       0    0.06   \n",
       "2   0.00      0   0.00    0.00       0       0    0.00       0    0.99   \n",
       "3   0.00      0   0.00    0.00       0       0    0.00       0    0.00   \n",
       "4   0.00      0   0.19    0.00       0       0    0.00       0    0.23   \n",
       "\n",
       "   disa16  disa17  disa18  disa19  disa20  disa21  disa22  disa23  disa24  \\\n",
       "0       0     0.0       0    0.00    0.00       0    0.00    0.02    0.00   \n",
       "1       0     0.4       0    0.61    0.00       0    0.99    0.98    0.61   \n",
       "2       0     0.0       0    0.00    0.00       0    0.00    0.00    0.00   \n",
       "3       0     0.0       0    0.00    0.00       0    0.00    0.00    0.00   \n",
       "4       0     0.0       0    0.00    0.05       0    0.00    0.01    0.00   \n",
       "\n",
       "   disa25  \n",
       "0    0.00  \n",
       "1    0.00  \n",
       "2    0.16  \n",
       "3    0.00  \n",
       "4    0.11  "
      ]
     },
     "execution_count": 7,
     "metadata": {},
     "output_type": "execute_result"
    }
   ],
   "source": [
    "import pandas as pd\n",
    "df =pd.read_stata('disarea1.dta')\n",
    "df"
   ]
  },
  {
   "attachments": {},
   "cell_type": "markdown",
   "metadata": {},
   "source": [
    "### **Importing Stata files**\n",
    "Here, you'll gain expertise in importing Stata files as DataFrames using the pd.read_stata() function from pandas. The last exercise's file, 'disarea.dta', is still in your working directory.\n",
    "\n",
    "> ### **Instructions**\n",
    "* Use pd.read_stata() to load the file 'disarea.dta' into the DataFrame df.\n",
    "* Print the head of the DataFrame df.\n",
    "* Visualize your results by plotting a histogram of the column disa10. We’ve already provided this code for you, so just run it!"
   ]
  },
  {
   "cell_type": "code",
   "execution_count": 9,
   "metadata": {},
   "outputs": [
    {
     "name": "stdout",
     "output_type": "stream",
     "text": [
      "   disa10\n",
      "0    0.00\n",
      "1    0.13\n",
      "2    0.00\n",
      "3    0.00\n",
      "4    0.00\n"
     ]
    },
    {
     "data": {
      "image/png": "[encoded data removed]",
      "text/plain": [
       "<Figure size 432x288 with 1 Axes>"
      ]
     },
     "metadata": {
      "needs_background": "light"
     },
     "output_type": "display_data"
    }
   ],
   "source": [
    "import pandas as pd\n",
    "import matplotlib.pyplot as plt\n",
    "df =pd.read_stata('disarea1.dta')\n",
    "print (df[['disa10']])\n",
    "plt.hist(df[['disa10']])\n",
    "plt.ylabel('Number of countries')\n",
    "plt.xlabel('Extent of disease')\n",
    "plt.show()"
   ]
  },
  {
   "attachments": {},
   "cell_type": "markdown",
   "metadata": {},
   "source": [
    "### **Importing HDF5 files**\n",
    "It stands for Hierarchical Data Format version 5. It is a standard mechanism for storing large quantity of numerical data.\\\n",
    "In now a days we are dealing with gigabytes or terabytes of data.HDF5 can scale upto exabytes.\n",
    "### **Using File to import HDF5 files**\n",
    "The h5py package has been imported in the environment and the file LIGO_data.hdf5 is loaded in the object h5py_file.\n",
    "\n",
    "What is the correct way of using the h5py function, File(), to import the file in h5py_file into an object, h5py_data, for reading only?"
   ]
  },
  {
   "cell_type": "code",
   "execution_count": 11,
   "metadata": {},
   "outputs": [
    {
     "name": "stdout",
     "output_type": "stream",
     "text": [
      "Collecting h5py\n",
      "  Downloading h5py-3.9.0-cp310-cp310-win_amd64.whl (2.7 MB)\n",
      "     ---------------------------------------- 2.7/2.7 MB 358.6 kB/s eta 0:00:00\n",
      "Requirement already satisfied: numpy>=1.17.3 in c:\\users\\asfandyar\\appdata\\local\\programs\\python\\python310\\lib\\site-packages (from h5py) (1.22.1)\n",
      "Installing collected packages: h5py\n",
      "Successfully installed h5py-3.9.0\n"
     ]
    },
    {
     "name": "stderr",
     "output_type": "stream",
     "text": [
      "WARNING: You are using pip version 22.0.4; however, version 23.2.1 is available.\n",
      "You should consider upgrading via the 'C:\\Users\\Asfandyar\\AppData\\Local\\Programs\\Python\\Python310\\python.exe -m pip install --upgrade pip' command.\n"
     ]
    }
   ],
   "source": [
    "! pip install h5py"
   ]
  },
  {
   "cell_type": "code",
   "execution_count": 15,
   "metadata": {},
   "outputs": [
    {
     "name": "stdout",
     "output_type": "stream",
     "text": [
      "<HDF5 file \"LIGO_data.hdf5\" (mode r)>\n",
      "<class 'h5py._hl.files.File'>\n"
     ]
    }
   ],
   "source": [
    "import h5py\n",
    "files='LIGO_data.hdf5'\n",
    "hds=h5py.File(files,'r')\n",
    "print (hds)\n",
    "print(type(hds))"
   ]
  },
  {
   "attachments": {},
   "cell_type": "markdown",
   "metadata": {},
   "source": [
    "### **Using h5py to import HDF5 files**\n",
    "The file 'LIGO_data.hdf5' is already in your working directory. In this exercise, you'll import it using the h5py library. You'll also print out its datatype to confirm you have imported it correctly. You'll then study the structure of the file in order to see precisely what HDF groups it contains.\n",
    "\n",
    "You can find the LIGO data plus loads of documentation and tutorials here. There is also a great tutorial on Signal Processing with the data here.\n",
    "\n",
    "### **Instructions**\n",
    "* Import the package h5py.\n",
    "* Assign the name of the file to the variable file.\n",
    "* Load the file as read only into the variable data.\n",
    "* Print the datatype of data.\n",
    "* Print the names of the groups in the HDF5 file 'LIGO_data.hdf5'."
   ]
  },
  {
   "cell_type": "code",
   "execution_count": 16,
   "metadata": {},
   "outputs": [
    {
     "name": "stdout",
     "output_type": "stream",
     "text": [
      "<class 'h5py._hl.files.File'>\n",
      "meta\n",
      "quality\n",
      "strain\n"
     ]
    }
   ],
   "source": [
    "import numpy as np\n",
    "import h5py\n",
    "file='LIGO_data.hdf5'\n",
    "data=h5py.File(file,'r')\n",
    "print(type(data))\n",
    "for k in data.keys():\n",
    "    print(k)"
   ]
  },
  {
   "attachments": {},
   "cell_type": "markdown",
   "metadata": {},
   "source": [
    "### **Extracting data from your HDF5 file**\n",
    "In this exercise, you'll extract some of the LIGO experiment's actual data from the HDF5 file and you'll visualize it.\n",
    "\n",
    "To do so, you'll need to first explore the HDF5 group 'strain'.\n",
    "\n",
    "> ### **Instructions**\n",
    "* Assign the HDF5 group data['strain'] to group.\n",
    "* In the for loop, print out the keys of the HDF5 group in group.\n",
    "* Assign the time series data data['strain']['Strain'] to a NumPy array called strain.\n",
    "* Set num_samples equal to 10000, the number of time points we wish to sample.\n",
    "* Execute the rest of the code to produce a plot of the time series data in LIGO_data.hdf5."
   ]
  },
  {
   "cell_type": "code",
   "execution_count": 19,
   "metadata": {},
   "outputs": [
    {
     "name": "stdout",
     "output_type": "stream",
     "text": [
      "Strain\n",
      "[-1.77955839e-18 -1.76552067e-18 -1.71049117e-18 ... -1.76375155e-18\n",
      " -1.72364846e-18 -1.71969299e-18]\n",
      "time\n",
      "[0.000e+00 1.000e-04 2.000e-04 ... 9.997e-01 9.998e-01 9.999e-01]\n"
     ]
    },
    {
     "data": {
      "image/png": "[encoded data removed]",
      "text/plain": [
       "<Figure size 432x288 with 1 Axes>"
      ]
     },
     "metadata": {
      "needs_background": "light"
     },
     "output_type": "display_data"
    }
   ],
   "source": [
    "import numpy as np\n",
    "import h5py\n",
    "file='LIGO_data.hdf5'\n",
    "data=h5py.File(file,'r')\n",
    "group=data['strain']\n",
    "for k in group.keys():\n",
    "    print(k)\n",
    "strain=np.array(group['Strain'])\n",
    "print(strain)\n",
    "num_samples=10000\n",
    "time = np.arange(0, 1, 1/num_samples)\n",
    "print(f'time\\n{time}')\n",
    "# Plot data\n",
    "plt.plot(time, strain[:num_samples])\n",
    "plt.xlabel('GPS Time (s)')\n",
    "plt.ylabel('strain')\n",
    "plt.show()"
   ]
  },
  {
   "attachments": {},
   "cell_type": "markdown",
   "metadata": {},
   "source": [
    "### **Loading .mat files**\n",
    "Matlab is very important for researchers and numerical computation is not that much issue with matlab so If we have sensor data and we save the data as .mat we can analyze the data by python.\\\n",
    "In this exercise, you'll figure out how to load a MATLAB file using scipy.io.loadmat() and you'll discover what Python datatype it yields.\n",
    "\n",
    "The file 'albeck_gene_expression.mat' is in your working directory. This file contains gene expression data from the Albeck Lab at UC Davis.\n",
    "\n",
    "### **Instructions**\n",
    "* Import the package scipy.io.\n",
    "* Load the file 'albeck_gene_expression.mat' into the variable mat; do so using the function scipy.io.loadmat().\n",
    "* Use the function type() to print the datatype of mat to the IPython shell."
   ]
  },
  {
   "cell_type": "code",
   "execution_count": 21,
   "metadata": {},
   "outputs": [
    {
     "name": "stdout",
     "output_type": "stream",
     "text": [
      "<class 'dict'>\n"
     ]
    }
   ],
   "source": [
    "import scipy.io as sp\n",
    "fil='albeck_gene_expression.mat'\n",
    "mat = sp.loadmat(fil)\n",
    "print(type(mat))"
   ]
  },
  {
   "attachments": {},
   "cell_type": "markdown",
   "metadata": {},
   "source": [
    "### **The structure of .mat in Python**\n",
    "Here, you'll discover what is in the MATLAB dictionary that you loaded in the previous exercise.\n",
    "\n",
    "\n",
    "> ### **Instructions**\n",
    "* Use the method .keys() on the dictionary mat to print the keys. Most of these keys (in fact the ones that do NOT begin and end with '__') are variables from the corresponding MATLAB environment.\n",
    "* Print the type of the value corresponding to the key 'CYratioCyt' in mat. Recall that mat['CYratioCyt'] accesses the value.\n",
    "* Print the shape of the value corresponding to the key 'CYratioCyt' using the numpy function shape().\n",
    "* Execute the entire script to see some oscillatory gene expression data!"
   ]
  },
  {
   "cell_type": "code",
   "execution_count": 28,
   "metadata": {},
   "outputs": [
    {
     "name": "stdout",
     "output_type": "stream",
     "text": [
      "Keys\n",
      "dict_keys(['__header__', '__version__', '__globals__', 'rfpCyt', 'rfpNuc', 'cfpNuc', 'cfpCyt', 'yfpNuc', 'yfpCyt', 'CYratioCyt'])\n",
      "[[0.         1.53071547 1.54297013 ... 1.34990123 1.35329984 1.34922173]\n",
      " [0.         1.28605578 1.29385656 ... 1.31307311 1.30039694 1.30563938]\n",
      " [0.         1.32731222 1.32884617 ... 1.24887565 1.24506205 1.25825831]\n",
      " ...\n",
      " [0.         0.         0.         ... 0.         0.         0.        ]\n",
      " [0.         1.44552606 1.42862357 ... 0.         0.         0.        ]\n",
      " [0.         1.45794466 0.         ... 1.1229479  1.12224652 1.1486481 ]]\n",
      "<class 'numpy.ndarray'>\n",
      "(200, 137)\n"
     ]
    },
    {
     "data": {
      "image/png": "[encoded data removed]",
      "text/plain": [
       "<Figure size 432x288 with 1 Axes>"
      ]
     },
     "metadata": {
      "needs_background": "light"
     },
     "output_type": "display_data"
    }
   ],
   "source": [
    "print(f'Keys\\n{mat.keys()}')\n",
    "print (mat['CYratioCyt'])\n",
    "print(type(mat['CYratioCyt']))\n",
    "print (np.shape(mat['CYratioCyt']))\n",
    "data = mat['CYratioCyt'][25, 5:]\n",
    "fig = plt.figure()\n",
    "plt.plot(data)\n",
    "plt.xlabel('time (min.)')\n",
    "plt.ylabel('normalized fluorescence (measure of expression)')\n",
    "plt.show()"
   ]
  },
  {
   "cell_type": "markdown",
   "metadata": {},
   "source": []
  },
  {
   "cell_type": "code",
   "execution_count": 27,
   "metadata": {},
   "outputs": [
    {
     "data": {
      "text/plain": [
       "dict_values([b'MATLAB 5.0 MAT-file, Platform: PCWIN64, Created on: Tue Nov 24 17:35:19 2015', '1.0', [], array([[  0.        , 238.62933333, 238.62264151, ..., 250.17403315,\n",
       "        249.05801105, 251.3489011 ],\n",
       "       [  0.        , 291.7718254 , 292.006     , ..., 269.99239544,\n",
       "        271.32044199, 271.26086957],\n",
       "       [  0.        , 252.45212766, 253.34851138, ..., 225.76428571,\n",
       "        224.02909091, 226.38103757],\n",
       "       ...,\n",
       "       [  0.        ,   0.        ,   0.        , ...,   0.        ,\n",
       "          0.        ,   0.        ],\n",
       "       [  0.        , 373.45756458, 377.05420561, ...,   0.        ,\n",
       "          0.        ,   0.        ],\n",
       "       [  0.        , 415.25079365,   0.        , ..., 407.76514032,\n",
       "        402.54331865, 409.40528634]]), array([[  0.        , 183.34256055, 187.84859155, ..., 200.62101911,\n",
       "        198.79566563, 201.73566879],\n",
       "       [  0.        , 191.7195122 , 189.11340206, ..., 183.73829787,\n",
       "        187.35918367, 189.04320988],\n",
       "       [  0.        , 174.97307692, 174.79961464, ..., 157.78478664,\n",
       "        157.32887189, 157.59962049],\n",
       "       ...,\n",
       "       [  0.        ,   0.        ,   0.        , ...,   0.        ,\n",
       "          0.        ,   0.        ],\n",
       "       [  0.        , 247.48251748, 249.63270142, ...,   0.        ,\n",
       "          0.        ,   0.        ],\n",
       "       [  0.        , 280.50465839,   0.        , ..., 249.66157761,\n",
       "        247.85316456, 250.16287879]]), array([[  0.        , 844.75086505, 874.15492958, ..., 710.70382166,\n",
       "        715.50154799, 727.59872611],\n",
       "       [  0.        , 643.34878049, 641.84020619, ..., 583.27021277,\n",
       "        603.84897959, 608.45679012],\n",
       "       [  0.        , 487.2       , 486.08863198, ..., 435.80705009,\n",
       "        431.29063098, 439.29222011],\n",
       "       ...,\n",
       "       [  0.        ,   0.        ,   0.        , ...,   0.        ,\n",
       "          0.        ,   0.        ],\n",
       "       [  0.        , 535.31235431, 541.69194313, ...,   0.        ,\n",
       "          0.        ,   0.        ],\n",
       "       [  0.        , 793.31832298,   0.        , ..., 584.53435115,\n",
       "        577.9835443 , 599.96085859]]), array([[   0.        , 1519.37866667, 1518.73045822, ..., 1354.96132597,\n",
       "        1352.75966851, 1367.18681319],\n",
       "       [   0.        , 1175.74007937, 1176.164     , ..., 1098.57984791,\n",
       "        1109.05893186, 1111.66847826],\n",
       "       [   0.        ,  856.7535461 ,  856.88091068, ...,  736.54821429,\n",
       "         738.08909091,  746.82110912],\n",
       "       ...,\n",
       "       [   0.        ,    0.        ,    0.        , ...,    0.        ,\n",
       "           0.        ,    0.        ],\n",
       "       [   0.        ,  908.85424354,  920.44859813, ...,    0.        ,\n",
       "           0.        ,    0.        ],\n",
       "       [   0.        , 1256.34603175,    0.        , ..., 1128.29542097,\n",
       "        1122.6328928 , 1170.41703377]]), array([[  0.        , 532.3633218 , 551.92253521, ..., 495.13375796,\n",
       "        497.89783282, 507.28025478],\n",
       "       [  0.        , 448.39268293, 448.56958763, ..., 399.82553191,\n",
       "        417.9244898 , 421.81069959],\n",
       "       [  0.        , 307.85576923, 308.32177264, ..., 283.20222635,\n",
       "        281.00382409, 285.47628083],\n",
       "       ...,\n",
       "       [  0.        ,   0.        ,   0.        , ...,   0.        ,\n",
       "          0.        ,   0.        ],\n",
       "       [  0.        , 326.36363636, 330.20379147, ...,   0.        ,\n",
       "          0.        ,   0.        ],\n",
       "       [  0.        , 502.60869565,   0.        , ..., 418.83842239,\n",
       "        417.3721519 , 426.93434343]]), array([[  0.        , 951.432     , 944.48787062, ..., 939.66022099,\n",
       "        936.        , 949.12912088],\n",
       "       [  0.        , 840.49801587, 836.542     , ..., 767.11596958,\n",
       "        781.38489871, 780.76811594],\n",
       "       [  0.        , 578.08865248, 577.66725044, ..., 509.98035714,\n",
       "        512.38181818, 515.31127013],\n",
       "       ...,\n",
       "       [  0.        ,   0.        ,   0.        , ...,   0.        ,\n",
       "          0.        ,   0.        ],\n",
       "       [  0.        , 577.48708487, 590.89719626, ...,   0.        ,\n",
       "          0.        ,   0.        ],\n",
       "       [  0.        , 812.01904762,   0.        , ..., 901.44756278,\n",
       "        896.88399413, 920.85756241]]), array([[0.        , 1.53071547, 1.54297013, ..., 1.34990123, 1.35329984,\n",
       "        1.34922173],\n",
       "       [0.        , 1.28605578, 1.29385656, ..., 1.31307311, 1.30039694,\n",
       "        1.30563938],\n",
       "       [0.        , 1.32731222, 1.32884617, ..., 1.24887565, 1.24506205,\n",
       "        1.25825831],\n",
       "       ...,\n",
       "       [0.        , 0.        , 0.        , ..., 0.        , 0.        ,\n",
       "        0.        ],\n",
       "       [0.        , 1.44552606, 1.42862357, ..., 0.        , 0.        ,\n",
       "        0.        ],\n",
       "       [0.        , 1.45794466, 0.        , ..., 1.1229479 , 1.12224652,\n",
       "        1.1486481 ]])])"
      ]
     },
     "execution_count": 27,
     "metadata": {},
     "output_type": "execute_result"
    }
   ],
   "source": [
    "# mat.keys()\n",
    "mat.values()"
   ]
  },
  {
   "cell_type": "code",
   "execution_count": 37,
   "metadata": {},
   "outputs": [],
   "source": [
    "delta_rdd = [(102,), (104,)]"
   ]
  },
  {
   "cell_type": "code",
   "execution_count": 38,
   "metadata": {},
   "outputs": [
    {
     "ename": "AttributeError",
     "evalue": "'list' object has no attribute 'zipWithIndex'",
     "output_type": "error",
     "traceback": [
      "\u001b[1;31m---------------------------------------------------------------------------\u001b[0m",
      "\u001b[1;31mAttributeError\u001b[0m                            Traceback (most recent call last)",
      "\u001b[1;32md:\\github contribution\\SQL_contribution\\Python-For-DataScience\\Exercise\\Importing_data_via_Python.ipynb Cell 53\u001b[0m in \u001b[0;36m<module>\u001b[1;34m\u001b[0m\n\u001b[1;32m----> <a href='vscode-notebook-cell:/d%3A/github%20contribution/SQL_contribution/Python-For-DataScience/Exercise/Importing_data_via_Python.ipynb#Y112sZmlsZQ%3D%3D?line=0'>1</a>\u001b[0m indexed_rdd \u001b[39m=\u001b[39m delta_rdd\u001b[39m.\u001b[39;49mzipWithIndex()\n\u001b[0;32m      <a href='vscode-notebook-cell:/d%3A/github%20contribution/SQL_contribution/Python-For-DataScience/Exercise/Importing_data_via_Python.ipynb#Y112sZmlsZQ%3D%3D?line=1'>2</a>\u001b[0m indexed_rdd\n",
      "\u001b[1;31mAttributeError\u001b[0m: 'list' object has no attribute 'zipWithIndex'"
     ]
    }
   ],
   "source": [
    "indexed_rdd = delta_rdd.zipWithIndex()\n",
    "indexed_rdd"
   ]
  },
  {
   "cell_type": "code",
   "execution_count": 39,
   "metadata": {},
   "outputs": [],
   "source": [
    "import pandas as pd\n",
    "\n",
    "# Creating dummy data for biz_partner_df\n",
    "biz_partner_data = {'BIZ_PART_CODE': [101, 102, 103, 104, 105],\n",
    "                    'partner_name': ['Partner A', 'Partner B', 'Partner C', 'Partner D', 'Partner E']}\n",
    "biz_partner_df = pd.DataFrame(biz_partner_data)\n",
    "\n",
    "# Creating dummy data for hlp_channel_df\n",
    "hlp_channel_data = {'channel_num': [101, 103, 105, 107],\n",
    "                    'channel_name': ['Channel X', 'Channel Y', 'Channel Z', 'Channel W']}\n",
    "hlp_channel_df = pd.DataFrame(hlp_channel_data)"
   ]
  },
  {
   "cell_type": "code",
   "execution_count": 41,
   "metadata": {},
   "outputs": [
    {
     "ename": "ValueError",
     "evalue": "Can only compare identically-labeled Series objects",
     "output_type": "error",
     "traceback": [
      "\u001b[1;31m---------------------------------------------------------------------------\u001b[0m",
      "\u001b[1;31mValueError\u001b[0m                                Traceback (most recent call last)",
      "\u001b[1;32md:\\github contribution\\SQL_contribution\\Python-For-DataScience\\Exercise\\Importing_data_via_Python.ipynb Cell 55\u001b[0m in \u001b[0;36m<module>\u001b[1;34m\u001b[0m\n\u001b[0;32m      <a href='vscode-notebook-cell:/d%3A/github%20contribution/SQL_contribution/Python-For-DataScience/Exercise/Importing_data_via_Python.ipynb#Y120sZmlsZQ%3D%3D?line=0'>1</a>\u001b[0m delta_df \u001b[39m=\u001b[39m biz_partner_df\u001b[39m.\u001b[39m \\\n\u001b[1;32m----> <a href='vscode-notebook-cell:/d%3A/github%20contribution/SQL_contribution/Python-For-DataScience/Exercise/Importing_data_via_Python.ipynb#Y120sZmlsZQ%3D%3D?line=1'>2</a>\u001b[0m     join(hlp_channel_df, hlp_channel_df\u001b[39m.\u001b[39;49mchannel_num \u001b[39m==\u001b[39;49m biz_partner_df\u001b[39m.\u001b[39;49mBIZ_PART_CODE, how\u001b[39m=\u001b[39m\u001b[39m\"\u001b[39m\u001b[39mleft\u001b[39m\u001b[39m\"\u001b[39m)\u001b[39m.\u001b[39m \\\n\u001b[0;32m      <a href='vscode-notebook-cell:/d%3A/github%20contribution/SQL_contribution/Python-For-DataScience/Exercise/Importing_data_via_Python.ipynb#Y120sZmlsZQ%3D%3D?line=2'>3</a>\u001b[0m     \u001b[39mfilter\u001b[39m(\u001b[39m\"\u001b[39m\u001b[39mchannel_num is null\u001b[39m\u001b[39m\"\u001b[39m)\n",
      "File \u001b[1;32mc:\\Users\\Asfandyar\\AppData\\Local\\Programs\\Python\\Python310\\lib\\site-packages\\pandas\\core\\ops\\common.py:70\u001b[0m, in \u001b[0;36m_unpack_zerodim_and_defer.<locals>.new_method\u001b[1;34m(self, other)\u001b[0m\n\u001b[0;32m     66\u001b[0m             \u001b[39mreturn\u001b[39;00m \u001b[39mNotImplemented\u001b[39m\n\u001b[0;32m     68\u001b[0m other \u001b[39m=\u001b[39m item_from_zerodim(other)\n\u001b[1;32m---> 70\u001b[0m \u001b[39mreturn\u001b[39;00m method(\u001b[39mself\u001b[39;49m, other)\n",
      "File \u001b[1;32mc:\\Users\\Asfandyar\\AppData\\Local\\Programs\\Python\\Python310\\lib\\site-packages\\pandas\\core\\arraylike.py:40\u001b[0m, in \u001b[0;36mOpsMixin.__eq__\u001b[1;34m(self, other)\u001b[0m\n\u001b[0;32m     38\u001b[0m \u001b[39m@unpack_zerodim_and_defer\u001b[39m(\u001b[39m\"\u001b[39m\u001b[39m__eq__\u001b[39m\u001b[39m\"\u001b[39m)\n\u001b[0;32m     39\u001b[0m \u001b[39mdef\u001b[39;00m \u001b[39m__eq__\u001b[39m(\u001b[39mself\u001b[39m, other):\n\u001b[1;32m---> 40\u001b[0m     \u001b[39mreturn\u001b[39;00m \u001b[39mself\u001b[39;49m\u001b[39m.\u001b[39;49m_cmp_method(other, operator\u001b[39m.\u001b[39;49meq)\n",
      "File \u001b[1;32mc:\\Users\\Asfandyar\\AppData\\Local\\Programs\\Python\\Python310\\lib\\site-packages\\pandas\\core\\series.py:5614\u001b[0m, in \u001b[0;36mSeries._cmp_method\u001b[1;34m(self, other, op)\u001b[0m\n\u001b[0;32m   5611\u001b[0m res_name \u001b[39m=\u001b[39m ops\u001b[39m.\u001b[39mget_op_result_name(\u001b[39mself\u001b[39m, other)\n\u001b[0;32m   5613\u001b[0m \u001b[39mif\u001b[39;00m \u001b[39misinstance\u001b[39m(other, Series) \u001b[39mand\u001b[39;00m \u001b[39mnot\u001b[39;00m \u001b[39mself\u001b[39m\u001b[39m.\u001b[39m_indexed_same(other):\n\u001b[1;32m-> 5614\u001b[0m     \u001b[39mraise\u001b[39;00m \u001b[39mValueError\u001b[39;00m(\u001b[39m\"\u001b[39m\u001b[39mCan only compare identically-labeled Series objects\u001b[39m\u001b[39m\"\u001b[39m)\n\u001b[0;32m   5616\u001b[0m lvalues \u001b[39m=\u001b[39m \u001b[39mself\u001b[39m\u001b[39m.\u001b[39m_values\n\u001b[0;32m   5617\u001b[0m rvalues \u001b[39m=\u001b[39m extract_array(other, extract_numpy\u001b[39m=\u001b[39m\u001b[39mTrue\u001b[39;00m, extract_range\u001b[39m=\u001b[39m\u001b[39mTrue\u001b[39;00m)\n",
      "\u001b[1;31mValueError\u001b[0m: Can only compare identically-labeled Series objects"
     ]
    }
   ],
   "source": [
    "delta_df = biz_partner_df. \\\n",
    "    join(hlp_channel_df, hlp_channel_df.channel_num == biz_partner_df.BIZ_PART_CODE, how=\"left\"). \\\n",
    "    filter(\"channel_num is null\")"
   ]
  },
  {
   "cell_type": "code",
   "execution_count": 40,
   "metadata": {},
   "outputs": [
    {
     "ename": "NameError",
     "evalue": "name 'delta_df' is not defined",
     "output_type": "error",
     "traceback": [
      "\u001b[1;31m---------------------------------------------------------------------------\u001b[0m",
      "\u001b[1;31mNameError\u001b[0m                                 Traceback (most recent call last)",
      "\u001b[1;32md:\\github contribution\\SQL_contribution\\Python-For-DataScience\\Exercise\\Importing_data_via_Python.ipynb Cell 55\u001b[0m in \u001b[0;36m<module>\u001b[1;34m\u001b[0m\n\u001b[1;32m----> <a href='vscode-notebook-cell:/d%3A/github%20contribution/SQL_contribution/Python-For-DataScience/Exercise/Importing_data_via_Python.ipynb#Y115sZmlsZQ%3D%3D?line=0'>1</a>\u001b[0m delta_rdd \u001b[39m=\u001b[39m delta_df\u001b[39m.\u001b[39mselect(\u001b[39m\"\u001b[39m\u001b[39mBIZ_PART_CODE\u001b[39m\u001b[39m\"\u001b[39m)\u001b[39m.\u001b[39mdistinct()\u001b[39m.\u001b[39mrdd\n",
      "\u001b[1;31mNameError\u001b[0m: name 'delta_df' is not defined"
     ]
    }
   ],
   "source": [
    "delta_rdd = delta_df.select(\"BIZ_PART_CODE\").distinct().rdd"
   ]
  },
  {
   "cell_type": "code",
   "execution_count": null,
   "metadata": {},
   "outputs": [],
   "source": []
  },
  {
   "cell_type": "code",
   "execution_count": null,
   "metadata": {},
   "outputs": [],
   "source": []
  },
  {
   "cell_type": "markdown",
   "metadata": {},
   "source": []
  },
  {
   "cell_type": "markdown",
   "metadata": {},
   "source": []
  },
  {
   "cell_type": "markdown",
   "metadata": {},
   "source": []
  },
  {
   "cell_type": "markdown",
   "metadata": {},
   "source": []
  },
  {
   "cell_type": "code",
   "execution_count": null,
   "metadata": {},
   "outputs": [],
   "source": []
  }
 ],
 "metadata": {
  "kernelspec": {
   "display_name": "Python 3",
   "language": "python",
   "name": "python3"
  },
  "language_info": {
   "codemirror_mode": {
    "name": "ipython",
    "version": 3
   },
   "file_extension": ".py",
   "mimetype": "text/x-python",
   "name": "python",
   "nbconvert_exporter": "python",
   "pygments_lexer": "ipython3",
   "version": "3.10.1"
  },
  "orig_nbformat": 4
 },
 "nbformat": 4,
 "nbformat_minor": 2
}
