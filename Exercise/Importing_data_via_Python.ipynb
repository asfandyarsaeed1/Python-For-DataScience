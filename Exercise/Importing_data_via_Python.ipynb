{
 "cells": [
  {
   "attachments": {},
   "cell_type": "markdown",
   "metadata": {},
   "source": [
    "### **Importing entire text files**\n",
    "In this exercise, you'll be working with the file moby_dick.txt. It is a text file that contains the opening sentences of Moby Dick, one of the great American novels! Here you'll get experience opening a text file, printing its contents to the shell and, finally, closing it.\n",
    "\n",
    "> ### **Instructions**\n",
    "* Open the file moby_dick.txt as read-only and store it in the variable file. Make sure to pass the filename enclosed in quotation marks ''.\n",
    "* Print the contents of the file to the shell using the print() function. As Hugo showed in the video, you'll need to apply the method read() to the object file.\n",
    "* Check whether the file is closed by executing print(file.closed).\n",
    "* Close the file using the close() method.\n",
    "* Check again that the file is closed as you did above."
   ]
  },
  {
   "cell_type": "code",
   "execution_count": 2,
   "metadata": {},
   "outputs": [
    {
     "name": "stdout",
     "output_type": "stream",
     "text": [
      "CHAPTER 1. Loomings.\n",
      "\n",
      "Call me Ishmael. Some years ago--never mind how long precisely--having\n",
      "little or no money in my purse, and nothing particular to interest me on\n",
      "shore, I thought I would sail about a little and see the watery part of\n",
      "the world. It is a way I have of driving off the spleen and regulating\n",
      "the circulation. Whenever I find myself growing grim about the mouth;\n",
      "whenever it is a damp, drizzly November in my soul; whenever I find\n",
      "myself involuntarily pausing before coffin warehouses, and bringing up\n",
      "the rear of every funeral I meet; and especially whenever my hypos get\n",
      "such an upper hand of me, that it requires a strong moral principle to\n",
      "prevent me from deliberately stepping into the street, and methodically\n",
      "knocking people's hats off--then, I account it high time to get to sea\n",
      "as soon as I can. This is my substitute for pistol and ball. With a\n",
      "philosophical flourish Cato throws himself upon his sword; I quietly\n",
      "take to the ship. There is nothing surprising in this. If they but knew\n",
      "it, almost all men in their degree, some time or other, cherish very\n",
      "nearly the same feelings towards the ocean with me.\n",
      "False\n",
      "True\n"
     ]
    }
   ],
   "source": [
    "file = open('moby_dick.txt',mode = 'r')\n",
    "print(file.read())\n",
    "## tp see is it closed or not\n",
    "print (file.closed)\n",
    "file.close()\n",
    "print (file.closed)"
   ]
  },
  {
   "attachments": {},
   "cell_type": "markdown",
   "metadata": {},
   "source": [
    "### **Importing text files line by line**\n",
    "For large files, we may not want to print all of their content to the shell: you may wish to print only the first few lines. Enter the readline() method, which allows you to do this. When a file called file is open, you can print out the first line by executing file.readline(). If you execute the same command again, the second line will print, and so on.\n",
    "\n",
    "In the introductory video, Hugo also introduced the concept of a context manager. He showed that you can bind a variable file by using a context manager construct:\n",
    "\n",
    "with open('huck_finn.txt') as file:\\\n",
    "While still within this construct, the variable file will be bound to open('huck_finn.txt'); thus, to print the file to the shell, all the code you need to execute is:\n",
    "\n",
    "with open('huck_finn.txt') as file:\\\n",
    "    print(file.readline())\\\n",
    "You'll now use these tools to print the first few lines of moby_dick.txt!\n",
    "\n",
    "> ### **Instructions**\n",
    "* Open moby_dick.txt using the with context manager and the variable file.\n",
    "* Print the first three lines of the file to the shell by using readline() three times within the context manager.\n",
    "\n"
   ]
  },
  {
   "cell_type": "code",
   "execution_count": 3,
   "metadata": {},
   "outputs": [
    {
     "name": "stdout",
     "output_type": "stream",
     "text": [
      "CHAPTER 1. Loomings.\n",
      "\n",
      "\n",
      "\n",
      "Call me Ishmael. Some years ago--never mind how long precisely--having\n",
      "\n"
     ]
    }
   ],
   "source": [
    "with open('moby_dick.txt','r') as file:\n",
    "## print first line\n",
    "    print(file.readline())\n",
    "## print second line \n",
    "    print (file.readline())\n",
    "## print 3rd line of the txt file\n",
    "    print (file.readline())"
   ]
  },
  {
   "attachments": {},
   "cell_type": "markdown",
   "metadata": {},
   "source": [
    "### **Importing flat files using NumPy**\n",
    "Previously we used python open function now we will used Numpy. Numpy are used to store numerical data. It is more essential for other packages like scikit-learn which is used for ML.\\\n",
    "Numpy has more methods that make it easier to import data as numpy array. Numpy are efficient ,fast and clean which is why we use them. Numpy has 2 methods to load data.\n",
    "* loadtxt()\n",
    "* genfromtxt()\n",
    "  \n",
    "### **Using NumPy to import flat files**\n",
    "In this exercise, you're now going to load the MNIST digit recognition dataset using the numpy function loadtxt() and see just how easy it can be:\n",
    "\n",
    "The first argument will be the filename.\\\n",
    "The second will be the delimiter which, in this case, is a comma.\\\n",
    "\n",
    "### **Instructions**\n",
    "* Fill in the arguments of np.loadtxt() by passing file and a comma ',' for the delimiter.\n",
    "* Fill in the argument of print() to print the type of the object digits. Use the function type().\n",
    "* Execute the rest of the code to visualize one of the rows of the data."
   ]
  },
  {
   "cell_type": "code",
   "execution_count": 3,
   "metadata": {},
   "outputs": [
    {
     "name": "stdout",
     "output_type": "stream",
     "text": [
      "<class 'numpy.ndarray'>\n"
     ]
    },
    {
     "data": {
      "image/png": "[encoded data removed]",
      "text/plain": [
       "<Figure size 432x288 with 1 Axes>"
      ]
     },
     "metadata": {
      "needs_background": "light"
     },
     "output_type": "display_data"
    }
   ],
   "source": [
    "# Import package\n",
    "import numpy as np\n",
    "import matplotlib.pyplot as plt\n",
    "# Assign filename to variable: file\n",
    "file = 'digital.csv'\n",
    "\n",
    "# Load file as array: digits\n",
    "digits = np.loadtxt(file, delimiter=',')\n",
    "\n",
    "# Print datatype of digits\n",
    "print(type(digits))\n",
    "\n",
    "# Select and reshape a row\n",
    "im = digits[21, 1:]\n",
    "im_sq = np.reshape(im, (28, 28))\n",
    "\n",
    "# Plot reshaped data (matplotlib.pyplot already loaded as plt)\n",
    "plt.imshow(im_sq, cmap='Greys', interpolation='nearest')\n",
    "plt.show()\n"
   ]
  },
  {
   "attachments": {},
   "cell_type": "markdown",
   "metadata": {},
   "source": [
    "### **Customizing your NumPy import**\n",
    "What if there are rows, such as a header, that you don't want to import? What if your file has a delimiter other than a comma? What if you only wish to import particular columns?\n",
    "\n",
    "There are a number of arguments that np.loadtxt() takes that you'll find useful:\n",
    "\n",
    "delimiter changes the delimiter that loadtxt() is expecting.\\\n",
    "You can use ',' for comma-delimited.\\\n",
    "You can use '\\t' for tab-delimited.\\\n",
    "skiprows allows you to specify how many rows (not indices) you wish to skip\\\n",
    "usecols takes a list of the indices of the columns you wish to keep.\\\n",
    "The file that you'll be importing, digits_header.txt, has a header and is tab-delimited.\n",
    "\n",
    "### **Instructions**\n",
    "* Complete the arguments of np.loadtxt(): the file you're importing is tab-delimited, you want to skip the first row and you only want to import the first and third columns.\n",
    "* Complete the argument of the print() call in order to print the entire array that you just imported."
   ]
  },
  {
   "cell_type": "code",
   "execution_count": 8,
   "metadata": {},
   "outputs": [
    {
     "name": "stdout",
     "output_type": "stream",
     "text": [
      "[[1. 0.]\n",
      " [0. 0.]\n",
      " [1. 0.]\n",
      " [4. 0.]\n",
      " [0. 0.]\n",
      " [0. 0.]\n",
      " [7. 0.]\n",
      " [3. 0.]\n",
      " [5. 0.]\n",
      " [3. 0.]\n",
      " [8. 0.]\n",
      " [9. 0.]\n",
      " [1. 0.]\n",
      " [3. 0.]\n",
      " [3. 0.]\n",
      " [1. 0.]\n",
      " [2. 0.]\n",
      " [0. 0.]\n",
      " [7. 0.]\n",
      " [5. 0.]\n",
      " [8. 0.]\n",
      " [6. 0.]\n",
      " [2. 0.]\n",
      " [0. 0.]\n",
      " [2. 0.]\n",
      " [3. 0.]\n",
      " [6. 0.]\n",
      " [9. 0.]\n",
      " [9. 0.]\n",
      " [7. 0.]\n",
      " [8. 0.]\n",
      " [9. 0.]\n",
      " [4. 0.]\n",
      " [9. 0.]\n",
      " [2. 0.]\n",
      " [1. 0.]\n",
      " [3. 0.]\n",
      " [1. 0.]\n",
      " [1. 0.]\n",
      " [4. 0.]\n",
      " [9. 0.]\n",
      " [1. 0.]\n",
      " [4. 0.]\n",
      " [4. 0.]\n",
      " [2. 0.]\n",
      " [6. 0.]\n",
      " [3. 0.]\n",
      " [7. 0.]\n",
      " [7. 0.]\n",
      " [4. 0.]\n",
      " [7. 0.]\n",
      " [5. 0.]\n",
      " [1. 0.]\n",
      " [9. 0.]\n",
      " [0. 0.]\n",
      " [2. 0.]\n",
      " [2. 0.]\n",
      " [3. 0.]\n",
      " [9. 0.]\n",
      " [1. 0.]\n",
      " [1. 0.]\n",
      " [1. 0.]\n",
      " [5. 0.]\n",
      " [0. 0.]\n",
      " [6. 0.]\n",
      " [3. 0.]\n",
      " [4. 0.]\n",
      " [8. 0.]\n",
      " [1. 0.]\n",
      " [0. 0.]\n",
      " [3. 0.]\n",
      " [9. 0.]\n",
      " [6. 0.]\n",
      " [2. 0.]\n",
      " [6. 0.]\n",
      " [4. 0.]\n",
      " [7. 0.]\n",
      " [1. 0.]\n",
      " [4. 0.]\n",
      " [1. 0.]\n",
      " [5. 0.]\n",
      " [4. 0.]\n",
      " [8. 0.]\n",
      " [9. 0.]\n",
      " [2. 0.]\n",
      " [9. 0.]\n",
      " [9. 0.]\n",
      " [8. 0.]\n",
      " [9. 0.]\n",
      " [6. 0.]\n",
      " [3. 0.]\n",
      " [6. 0.]\n",
      " [4. 0.]\n",
      " [6. 0.]\n",
      " [2. 0.]\n",
      " [9. 0.]\n",
      " [1. 0.]\n",
      " [2. 0.]\n",
      " [0. 0.]\n",
      " [5. 0.]]\n"
     ]
    }
   ],
   "source": [
    "import numpy as np\n",
    "file='digital_headers.txt'\n",
    "digits=np.loadtxt(file,delimiter='\\t',skiprows=1,usecols=[0,3])\n",
    "print (digits)"
   ]
  },
  {
   "attachments": {},
   "cell_type": "markdown",
   "metadata": {},
   "source": [
    "### **Importing different datatypes**\n",
    "The file seaslug.txt\n",
    "\n",
    "* has a text header, consisting of strings\n",
    "* is tab-delimited.\n",
    "These data consists of percentage of sea slug larvae that had metamorphosed in a given time period. Read more here.\n",
    "\n",
    "Due to the header, if you tried to import it as-is using np.loadtxt(), Python would throw you a ValueError and tell you that it could not convert string to float. There are two ways to deal with this: firstly, you can set the data type argument dtype equal to str (for string).\n",
    "\n",
    "Alternatively, you can skip the first row as we have seen before, using the skiprows argument.\n",
    "\n",
    "> ### **Instructions**\n",
    "* Complete the first call to np.loadtxt() by passing file as the first argument.\n",
    "* Execute print(data[0]) to print the first element of data.\n",
    "* Complete the second call to np.loadtxt(). The file you're importing is tab-delimited, the datatype is float, and you want to skip the first row.\n",
    "* Print the 10th element of data_float by completing the print() command. Be guided by the previous print() call.\n",
    "* Execute the rest of the code to visualize the data."
   ]
  },
  {
   "cell_type": "code",
   "execution_count": 11,
   "metadata": {},
   "outputs": [
    {
     "name": "stdout",
     "output_type": "stream",
     "text": [
      "['Time' 'Percent']\n",
      "[0.    0.357]\n"
     ]
    },
    {
     "data": {
      "image/png": "[encoded data removed]",
      "text/plain": [
       "<Figure size 432x288 with 1 Axes>"
      ]
     },
     "metadata": {
      "needs_background": "light"
     },
     "output_type": "display_data"
    }
   ],
   "source": [
    "import numpy as np\n",
    "file= 'seaslug.txt'\n",
    "data=np.loadtxt(file,delimiter='\\t',dtype=str)\n",
    "print(data[0])\n",
    "data_float=np.loadtxt(file,delimiter='\\t',dtype=float,skiprows=1)\n",
    "print(data_float[9])\n",
    "plt.scatter(data_float[:,0],data_float[:,1])\n",
    "plt.xlabel('time')\n",
    "plt.ylabel('percentage')\n",
    "plt.show()"
   ]
  },
  {
   "attachments": {},
   "cell_type": "markdown",
   "metadata": {},
   "source": [
    "### **Working with mixed datatypes (2)**\n",
    "You have just used np.genfromtxt() to import data containing mixed datatypes. There is also another function np.recfromcsv() that behaves similarly to np.genfromtxt(), except that its default dtype is None. In this exercise, you'll practice using this to achieve the same result.\n",
    "\n",
    "> ### **Instructions**\n",
    "* Import titanic.csv using the function np.recfromcsv() and assign it to the variable, d. You'll only need to pass file to it because it has the defaults delimiter=',' and names=True in addition to dtype=None!\n",
    "* Run the remaining code to print the first three entries of the resulting array d."
   ]
  },
  {
   "cell_type": "code",
   "execution_count": 32,
   "metadata": {},
   "outputs": [
    {
     "name": "stdout",
     "output_type": "stream",
     "text": [
      "[(1, 0, 3, b'male', 22., 1, 0, b'A/5 21171',  7.25  , b'', b'S')\n",
      " (2, 1, 1, b'female', 38., 1, 0, b'PC 17599', 71.2833, b'C85', b'C')\n",
      " (3, 1, 3, b'female', 26., 0, 0, b'STON/O2. 3101282',  7.925 , b'', b'S')]\n"
     ]
    }
   ],
   "source": [
    "# Assign the filename: file\n",
    "import numpy as np\n",
    "file = 'titanics.csv'\n",
    "\n",
    "# Import file using np.recfromcsv: d\n",
    "d=np.recfromcsv('titanics.csv',delimiter=',',names=True,dtype=None)\n",
    "\n",
    "print(d[:3])"
   ]
  },
  {
   "attachments": {},
   "cell_type": "markdown",
   "metadata": {},
   "source": [
    "### **Importing Data Via Pandas**\n",
    "We have seen how to import data via numpy but there is one deficiency in mumpy which is importing 2 dimensional data labeled structure with columns of potentially different types you cant do below functions like\\\n",
    "Manipulate,slice,reshape,groupby,join,merge,perform statistics in missing values and deal with time series.\\\n",
    "Python has always been great for data munging and preparation but pandas help in EDR and other data handling like statistics instead of applying R language."
   ]
  },
  {
   "attachments": {},
   "cell_type": "markdown",
   "metadata": {},
   "source": [
    "### **Using pandas to import flat files as DataFrames**\n",
    "In the last exercise, you were able to import flat files containing columns with different datatypes as numpy arrays. However, the DataFrame object in pandas is a more appropriate structure in which to store such data and, thankfully, we can easily import files of mixed data types as DataFrames using the pandas functions read_csv() and read_table().\n",
    "\n",
    "> ### **Instructions**\n",
    "* Import the pandas package using the alias pd.\n",
    "* Read titanic.csv into a DataFrame called df. The file name is already stored in the file object.\n",
    "* In a print() call, view the head of the DataFrame."
   ]
  },
  {
   "cell_type": "code",
   "execution_count": 33,
   "metadata": {},
   "outputs": [
    {
     "name": "stdout",
     "output_type": "stream",
     "text": [
      "   PassengerId  Survived  Pclass  ...     Fare  Cabin  Embarked\n",
      "0            1         0       3  ...   7.2500    NaN         S\n",
      "1            2         1       1  ...  71.2833    C85         C\n",
      "2            3         1       3  ...   7.9250    NaN         S\n",
      "3            4         1       1  ...  53.1000   C123         S\n",
      "4            5         0       3  ...   8.0500    NaN         S\n",
      "\n",
      "[5 rows x 11 columns]\n"
     ]
    }
   ],
   "source": [
    "import pandas as pd\n",
    "d = pd.read_csv('titanics.csv')\n",
    "print(d.head())"
   ]
  },
  {
   "attachments": {},
   "cell_type": "markdown",
   "metadata": {},
   "source": [
    "### **Using pandas to import flat files as DataFrames (2)**\n",
    "In the last exercise, you were able to import flat files into a pandas DataFrame. As a bonus, it is then straightforward to retrieve the corresponding numpy array using the attribute values. You'll now have a chance to do this using the MNIST dataset, which is available as digits.csv.\n",
    "\n",
    "> ### **Instructions**\n",
    "* Import the first 5 rows of the file into a DataFrame using the function pd.read_csv() and assign the result to data. You'll need to use the arguments nrows and header (there is no header in this file).\n",
    "* Build a numpy array from the resulting DataFrame in data and assign to data_array.\n",
    "* Execute print(type(data_array)) to print the datatype of data_array."
   ]
  },
  {
   "cell_type": "code",
   "execution_count": 37,
   "metadata": {},
   "outputs": [
    {
     "name": "stdout",
     "output_type": "stream",
     "text": [
      "[[1. 0. 0. ... 0. 0. 0.]\n",
      " [0. 0. 0. ... 0. 0. 0.]\n",
      " [1. 0. 0. ... 0. 0. 0.]\n",
      " [4. 0. 0. ... 0. 0. 0.]\n",
      " [0. 0. 0. ... 0. 0. 0.]]\n",
      "(5, 785)\n",
      "   0    1    2    3    4    5    6    ...  778  779  780  781  782  783  784\n",
      "0  1.0  0.0  0.0  0.0  0.0  0.0  0.0  ...  0.0  0.0  0.0  0.0  0.0  0.0  0.0\n",
      "1  0.0  0.0  0.0  0.0  0.0  0.0  0.0  ...  0.0  0.0  0.0  0.0  0.0  0.0  0.0\n",
      "2  1.0  0.0  0.0  0.0  0.0  0.0  0.0  ...  0.0  0.0  0.0  0.0  0.0  0.0  0.0\n",
      "3  4.0  0.0  0.0  0.0  0.0  0.0  0.0  ...  0.0  0.0  0.0  0.0  0.0  0.0  0.0\n",
      "4  0.0  0.0  0.0  0.0  0.0  0.0  0.0  ...  0.0  0.0  0.0  0.0  0.0  0.0  0.0\n",
      "\n",
      "[5 rows x 785 columns]\n"
     ]
    }
   ],
   "source": [
    "import pandas as pd \n",
    "data=pd.read_csv('digital.csv',header=None,nrows=5)\n",
    "print (data.values)\n",
    "print(np.shape(data.values))\n",
    "print (data)"
   ]
  },
  {
   "attachments": {},
   "cell_type": "markdown",
   "metadata": {},
   "source": [
    "### **Customizing your pandas import**\n",
    "The pandas package is also great at dealing with many of the issues you will encounter when importing data as a data scientist, such as comments occurring in flat files, empty lines and missing values. Note that missing values are also commonly referred to as NA or NaN. To wrap up this chapter, you're now going to import a slightly corrupted copy of the Titanic dataset titanic_corrupt.txt, which\n",
    "\n",
    "* contains comments after the character '#'\n",
    "* is tab-delimited.\n",
    "\n",
    "> ### **Instructions**\n",
    "* Complete the sep (the pandas version of delim), comment and na_values arguments of pd.read_csv(). comment takes characters that comments occur after in the file, which in this case is '#'. na_values takes a list of strings to recognize as NA/NaN, in this case the string 'Nothing'.\n",
    "* Execute the rest of the code to print the head of the resulting DataFrame and plot the histogram of the 'Age' of passengers aboard the Titanic."
   ]
  },
  {
   "cell_type": "code",
   "execution_count": 42,
   "metadata": {},
   "outputs": [
    {
     "name": "stdout",
     "output_type": "stream",
     "text": [
      "   PassengerId  Survived  Pclass  ...    Fare  Cabin  Embarked\n",
      "0            1         0       3  ...   7.250    NaN        S \n",
      "1            2         1       1  ...     NaN    NaN       NaN\n",
      "2            3         1       3  ...   7.925    NaN         S\n",
      "3            4         1       1  ...  53.100   C123         S\n",
      "4            5         0       3  ...   8.050    NaN         S\n",
      "\n",
      "[5 rows x 11 columns]\n"
     ]
    },
    {
     "data": {
      "image/png": "[encoded data removed]",
      "text/plain": [
       "<Figure size 432x288 with 1 Axes>"
      ]
     },
     "metadata": {
      "needs_background": "light"
     },
     "output_type": "display_data"
    }
   ],
   "source": [
    "# Import matplotlib.pyplot as plt\n",
    "import matplotlib.pyplot as plt\n",
    "\n",
    "import pandas as pd\n",
    "import numpy as np\n",
    "\n",
    "\n",
    "# Assign filename: file\n",
    "file = 'titanic_corrupt.csv'\n",
    "\n",
    "# Import file: data\n",
    "data = pd.read_csv(file, sep='\\t', comment='#', na_values='Nothing')\n",
    "\n",
    "# Print the head of the DataFrame\n",
    "print(data.head())\n",
    "\n",
    "# Plot 'Age' variable in a histogram\n",
    "pd.DataFrame.hist(data[['Age']])\n",
    "plt.xlabel('Age (years)')\n",
    "plt.ylabel('count')\n",
    "plt.show()\n"
   ]
  },
  {
   "attachments": {},
   "cell_type": "markdown",
   "metadata": {},
   "source": [
    "### **Introduction to other file types**\n",
    "Other file types\n",
    "* Excel spreadsheet files \n",
    "* MATLAB files\n",
    "* SAS files\n",
    "* stata files\n",
    "* HDF5 files\n",
    "* **pickled files**\\\n",
    "* File type native to python\n",
    "* It is easy to store numpy array and pandas dataframe to a flate file.There are other data types like dictionary and List for which it not obvious to store them. JSON file can be used for dictionary.\n",
    "* If we want to store them we can serialize them and to read we deserialize .All this means is converting the object to bytestreama and store it or transfer it over the internet."
   ]
  },
  {
   "cell_type": "code",
   "execution_count": null,
   "metadata": {},
   "outputs": [],
   "source": [
    "import pickle\n",
    "with"
   ]
  },
  {
   "attachments": {},
   "cell_type": "markdown",
   "metadata": {},
   "source": [
    "### **Not so flat any more**\n",
    "In Chapter 1, you learned how to use the IPython magic command ! ls to explore your current working directory. You can also do this natively in Python using the library os, which consists of miscellaneous operating system interfaces.\n",
    "\n",
    "The first line of the following code imports the library os, the second line stores the name of the current directory in a string called wd and the third outputs the contents of the directory in a list to the shell.\n",
    "\n",
    "import os\\\n",
    "wd = os.getcwd()\\\n",
    "os.listdir(wd)\\\n",
    "Run this code in the IPython shell and answer the following questions. Ignore the files that begin with ..\n",
    "\n",
    "Check out the contents of your current directory and answer the following questions: (1) which file is in your directory and NOT an example of a flat file; (2) why is it not a flat file?"
   ]
  },
  {
   "cell_type": "code",
   "execution_count": 45,
   "metadata": {},
   "outputs": [
    {
     "data": {
      "text/plain": [
       "['cars.csv.xlsx',\n",
       " 'chapter1_basic.ipynb',\n",
       " 'digital.csv',\n",
       " 'digital_headers.txt',\n",
       " 'Importing_data_via_Python.ipynb',\n",
       " 'Intermidate_python.ipynb',\n",
       " 'moby_dick.txt',\n",
       " 'Practice Exams.ipynb',\n",
       " 'Python-For-DataScience.code-workspace',\n",
       " 'seaslug.txt',\n",
       " 'titanics.csv',\n",
       " 'titanic_corrupt.csv']"
      ]
     },
     "execution_count": 45,
     "metadata": {},
     "output_type": "execute_result"
    }
   ],
   "source": [
    "import os\n",
    "wd = os.getcwd()\n",
    "os.listdir(wd)\n"
   ]
  },
  {
   "cell_type": "markdown",
   "metadata": {},
   "source": []
  },
  {
   "cell_type": "code",
   "execution_count": null,
   "metadata": {},
   "outputs": [],
   "source": []
  },
  {
   "cell_type": "code",
   "execution_count": null,
   "metadata": {},
   "outputs": [],
   "source": []
  },
  {
   "cell_type": "code",
   "execution_count": null,
   "metadata": {},
   "outputs": [],
   "source": []
  },
  {
   "cell_type": "code",
   "execution_count": null,
   "metadata": {},
   "outputs": [],
   "source": []
  }
 ],
 "metadata": {
  "kernelspec": {
   "display_name": "Python 3",
   "language": "python",
   "name": "python3"
  },
  "language_info": {
   "codemirror_mode": {
    "name": "ipython",
    "version": 3
   },
   "file_extension": ".py",
   "mimetype": "text/x-python",
   "name": "python",
   "nbconvert_exporter": "python",
   "pygments_lexer": "ipython3",
   "version": "3.10.1"
  },
  "orig_nbformat": 4
 },
 "nbformat": 4,
 "nbformat_minor": 2
}
